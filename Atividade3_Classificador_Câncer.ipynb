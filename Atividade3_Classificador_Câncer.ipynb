{
  "nbformat": 4,
  "nbformat_minor": 0,
  "metadata": {
    "colab": {
      "provenance": []
    },
    "kernelspec": {
      "name": "python3",
      "display_name": "Python 3"
    },
    "language_info": {
      "name": "python"
    }
  },
  "cells": [
    {
      "cell_type": "markdown",
      "source": [
        "UNIVERSIDADE FEDERAL DE ALFENAS\n",
        "> TRABALHO DE INTELIGENCIA ARTIFICIAL\n",
        "\n",
        "\n",
        "> Componentes:\n",
        "\n",
        "*   Bárbara Rodrigues Silveira - 2021.1.08.042\n",
        "*   Renan Magalhães Lage - 2021.1.08.020"
      ],
      "metadata": {
        "id": "yNHAybPwO2bE"
      }
    },
    {
      "cell_type": "code",
      "execution_count": null,
      "metadata": {
        "colab": {
          "base_uri": "https://localhost:8080/"
        },
        "id": "73aPBG1kOxz7",
        "outputId": "aa4b8c8f-9245-4b8f-d7a8-87842a89fb0a"
      },
      "outputs": [
        {
          "output_type": "stream",
          "name": "stdout",
          "text": [
            "Drive already mounted at /content/drive; to attempt to forcibly remount, call drive.mount(\"/content/drive\", force_remount=True).\n"
          ]
        }
      ],
      "source": [
        "#Configurando o drive\n",
        "from google.colab import drive\n",
        "drive.mount('/content/drive')"
      ]
    },
    {
      "cell_type": "code",
      "source": [
        "# Importanto as bibliotecas\n",
        "import pandas as pd\n",
        "import matplotlib.pyplot as plt\n",
        "import seaborn as sns\n",
        "#--------------------------------------------------\n",
        "# Processamento dos dados\n",
        "#--------------------------------------------------\n",
        "from sklearn.preprocessing import LabelEncoder\n",
        "from sklearn.model_selection import train_test_split\n",
        "#--------------------------------------------------\n",
        "\n",
        "import warnings\n",
        "warnings.simplefilter(action='ignore', category=FutureWarning)"
      ],
      "metadata": {
        "id": "jEHnZNLGRArw"
      },
      "execution_count": null,
      "outputs": []
    },
    {
      "cell_type": "code",
      "source": [
        "data = pd.read_csv(\"/content/drive/MyDrive/IA/breast-cancer-wisconsin.csv\")"
      ],
      "metadata": {
        "id": "ZPiUv6fnPDNQ"
      },
      "execution_count": null,
      "outputs": []
    },
    {
      "cell_type": "code",
      "source": [
        "data.head()"
      ],
      "metadata": {
        "colab": {
          "base_uri": "https://localhost:8080/",
          "height": 317
        },
        "id": "bBJzNmW4RMJ6",
        "outputId": "7718422a-0dc6-45f5-8908-e2d4bc7c5eb5"
      },
      "execution_count": null,
      "outputs": [
        {
          "output_type": "execute_result",
          "data": {
            "text/plain": [
              "       id diagnosis  radius_mean  texture_mean  perimeter_mean  area_mean  \\\n",
              "0  859471         B        9.029         17.33           58.79      250.5   \n",
              "1  859487         B       12.780         16.49           81.37      502.5   \n",
              "2  859575         M       18.940         21.31          123.60     1130.0   \n",
              "3  859711         B        8.888         14.64           58.79      244.0   \n",
              "4  859717         M       17.200         24.52          114.20      929.4   \n",
              "\n",
              "   smoothness_mean  compactness_mean  concavity_mean  concave points_mean  \\\n",
              "0            1.066             1.413         313.000                4.375   \n",
              "1            9.831             5.234           3.653                2.864   \n",
              "2            9.009             1.029         108.000                7.951   \n",
              "3            9.783             1.531           8.606                2.872   \n",
              "4            1.071           183.000           1.692                7.944   \n",
              "\n",
              "   ...  radius_worst  texture_worst  perimeter_worst  area_worst  \\\n",
              "0  ...        10.310          22.65            65.50       324.7   \n",
              "1  ...        13.460          19.76            85.67       554.9   \n",
              "2  ...        24.860          26.58           165.90      1866.0   \n",
              "3  ...         9.733          15.67            62.56       284.4   \n",
              "4  ...        23.320          33.82           151.60      1681.0   \n",
              "\n",
              "   smoothness_worst  compactness_worst  concavity_worst  concave points_worst  \\\n",
              "0             1.482              4.365            1.252               175.000   \n",
              "1             1.296              7.061            1.039                 5.882   \n",
              "2             1.193              2.336            2.687                 1.789   \n",
              "3             1.207              2.436            1.434                 4.786   \n",
              "4             1.585              7.394            6.566                 1.899   \n",
              "\n",
              "   symmetry_worst  fractal_dimension_worst  \n",
              "0           4.228                    1.175  \n",
              "1           2.383                  641.000  \n",
              "2           2.551                    6.589  \n",
              "3           2.254                    1.084  \n",
              "4           3.313                    1.339  \n",
              "\n",
              "[5 rows x 32 columns]"
            ],
            "text/html": [
              "\n",
              "\n",
              "  <div id=\"df-99b2e659-4a43-4914-bff5-01266884c460\">\n",
              "    <div class=\"colab-df-container\">\n",
              "      <div>\n",
              "<style scoped>\n",
              "    .dataframe tbody tr th:only-of-type {\n",
              "        vertical-align: middle;\n",
              "    }\n",
              "\n",
              "    .dataframe tbody tr th {\n",
              "        vertical-align: top;\n",
              "    }\n",
              "\n",
              "    .dataframe thead th {\n",
              "        text-align: right;\n",
              "    }\n",
              "</style>\n",
              "<table border=\"1\" class=\"dataframe\">\n",
              "  <thead>\n",
              "    <tr style=\"text-align: right;\">\n",
              "      <th></th>\n",
              "      <th>id</th>\n",
              "      <th>diagnosis</th>\n",
              "      <th>radius_mean</th>\n",
              "      <th>texture_mean</th>\n",
              "      <th>perimeter_mean</th>\n",
              "      <th>area_mean</th>\n",
              "      <th>smoothness_mean</th>\n",
              "      <th>compactness_mean</th>\n",
              "      <th>concavity_mean</th>\n",
              "      <th>concave points_mean</th>\n",
              "      <th>...</th>\n",
              "      <th>radius_worst</th>\n",
              "      <th>texture_worst</th>\n",
              "      <th>perimeter_worst</th>\n",
              "      <th>area_worst</th>\n",
              "      <th>smoothness_worst</th>\n",
              "      <th>compactness_worst</th>\n",
              "      <th>concavity_worst</th>\n",
              "      <th>concave points_worst</th>\n",
              "      <th>symmetry_worst</th>\n",
              "      <th>fractal_dimension_worst</th>\n",
              "    </tr>\n",
              "  </thead>\n",
              "  <tbody>\n",
              "    <tr>\n",
              "      <th>0</th>\n",
              "      <td>859471</td>\n",
              "      <td>B</td>\n",
              "      <td>9.029</td>\n",
              "      <td>17.33</td>\n",
              "      <td>58.79</td>\n",
              "      <td>250.5</td>\n",
              "      <td>1.066</td>\n",
              "      <td>1.413</td>\n",
              "      <td>313.000</td>\n",
              "      <td>4.375</td>\n",
              "      <td>...</td>\n",
              "      <td>10.310</td>\n",
              "      <td>22.65</td>\n",
              "      <td>65.50</td>\n",
              "      <td>324.7</td>\n",
              "      <td>1.482</td>\n",
              "      <td>4.365</td>\n",
              "      <td>1.252</td>\n",
              "      <td>175.000</td>\n",
              "      <td>4.228</td>\n",
              "      <td>1.175</td>\n",
              "    </tr>\n",
              "    <tr>\n",
              "      <th>1</th>\n",
              "      <td>859487</td>\n",
              "      <td>B</td>\n",
              "      <td>12.780</td>\n",
              "      <td>16.49</td>\n",
              "      <td>81.37</td>\n",
              "      <td>502.5</td>\n",
              "      <td>9.831</td>\n",
              "      <td>5.234</td>\n",
              "      <td>3.653</td>\n",
              "      <td>2.864</td>\n",
              "      <td>...</td>\n",
              "      <td>13.460</td>\n",
              "      <td>19.76</td>\n",
              "      <td>85.67</td>\n",
              "      <td>554.9</td>\n",
              "      <td>1.296</td>\n",
              "      <td>7.061</td>\n",
              "      <td>1.039</td>\n",
              "      <td>5.882</td>\n",
              "      <td>2.383</td>\n",
              "      <td>641.000</td>\n",
              "    </tr>\n",
              "    <tr>\n",
              "      <th>2</th>\n",
              "      <td>859575</td>\n",
              "      <td>M</td>\n",
              "      <td>18.940</td>\n",
              "      <td>21.31</td>\n",
              "      <td>123.60</td>\n",
              "      <td>1130.0</td>\n",
              "      <td>9.009</td>\n",
              "      <td>1.029</td>\n",
              "      <td>108.000</td>\n",
              "      <td>7.951</td>\n",
              "      <td>...</td>\n",
              "      <td>24.860</td>\n",
              "      <td>26.58</td>\n",
              "      <td>165.90</td>\n",
              "      <td>1866.0</td>\n",
              "      <td>1.193</td>\n",
              "      <td>2.336</td>\n",
              "      <td>2.687</td>\n",
              "      <td>1.789</td>\n",
              "      <td>2.551</td>\n",
              "      <td>6.589</td>\n",
              "    </tr>\n",
              "    <tr>\n",
              "      <th>3</th>\n",
              "      <td>859711</td>\n",
              "      <td>B</td>\n",
              "      <td>8.888</td>\n",
              "      <td>14.64</td>\n",
              "      <td>58.79</td>\n",
              "      <td>244.0</td>\n",
              "      <td>9.783</td>\n",
              "      <td>1.531</td>\n",
              "      <td>8.606</td>\n",
              "      <td>2.872</td>\n",
              "      <td>...</td>\n",
              "      <td>9.733</td>\n",
              "      <td>15.67</td>\n",
              "      <td>62.56</td>\n",
              "      <td>284.4</td>\n",
              "      <td>1.207</td>\n",
              "      <td>2.436</td>\n",
              "      <td>1.434</td>\n",
              "      <td>4.786</td>\n",
              "      <td>2.254</td>\n",
              "      <td>1.084</td>\n",
              "    </tr>\n",
              "    <tr>\n",
              "      <th>4</th>\n",
              "      <td>859717</td>\n",
              "      <td>M</td>\n",
              "      <td>17.200</td>\n",
              "      <td>24.52</td>\n",
              "      <td>114.20</td>\n",
              "      <td>929.4</td>\n",
              "      <td>1.071</td>\n",
              "      <td>183.000</td>\n",
              "      <td>1.692</td>\n",
              "      <td>7.944</td>\n",
              "      <td>...</td>\n",
              "      <td>23.320</td>\n",
              "      <td>33.82</td>\n",
              "      <td>151.60</td>\n",
              "      <td>1681.0</td>\n",
              "      <td>1.585</td>\n",
              "      <td>7.394</td>\n",
              "      <td>6.566</td>\n",
              "      <td>1.899</td>\n",
              "      <td>3.313</td>\n",
              "      <td>1.339</td>\n",
              "    </tr>\n",
              "  </tbody>\n",
              "</table>\n",
              "<p>5 rows × 32 columns</p>\n",
              "</div>\n",
              "      <button class=\"colab-df-convert\" onclick=\"convertToInteractive('df-99b2e659-4a43-4914-bff5-01266884c460')\"\n",
              "              title=\"Convert this dataframe to an interactive table.\"\n",
              "              style=\"display:none;\">\n",
              "\n",
              "  <svg xmlns=\"http://www.w3.org/2000/svg\" height=\"24px\"viewBox=\"0 0 24 24\"\n",
              "       width=\"24px\">\n",
              "    <path d=\"M0 0h24v24H0V0z\" fill=\"none\"/>\n",
              "    <path d=\"M18.56 5.44l.94 2.06.94-2.06 2.06-.94-2.06-.94-.94-2.06-.94 2.06-2.06.94zm-11 1L8.5 8.5l.94-2.06 2.06-.94-2.06-.94L8.5 2.5l-.94 2.06-2.06.94zm10 10l.94 2.06.94-2.06 2.06-.94-2.06-.94-.94-2.06-.94 2.06-2.06.94z\"/><path d=\"M17.41 7.96l-1.37-1.37c-.4-.4-.92-.59-1.43-.59-.52 0-1.04.2-1.43.59L10.3 9.45l-7.72 7.72c-.78.78-.78 2.05 0 2.83L4 21.41c.39.39.9.59 1.41.59.51 0 1.02-.2 1.41-.59l7.78-7.78 2.81-2.81c.8-.78.8-2.07 0-2.86zM5.41 20L4 18.59l7.72-7.72 1.47 1.35L5.41 20z\"/>\n",
              "  </svg>\n",
              "      </button>\n",
              "\n",
              "\n",
              "\n",
              "    <div id=\"df-64857bab-2c03-43e4-a2c2-fd8b3e0a113c\">\n",
              "      <button class=\"colab-df-quickchart\" onclick=\"quickchart('df-64857bab-2c03-43e4-a2c2-fd8b3e0a113c')\"\n",
              "              title=\"Suggest charts.\"\n",
              "              style=\"display:none;\">\n",
              "\n",
              "<svg xmlns=\"http://www.w3.org/2000/svg\" height=\"24px\"viewBox=\"0 0 24 24\"\n",
              "     width=\"24px\">\n",
              "    <g>\n",
              "        <path d=\"M19 3H5c-1.1 0-2 .9-2 2v14c0 1.1.9 2 2 2h14c1.1 0 2-.9 2-2V5c0-1.1-.9-2-2-2zM9 17H7v-7h2v7zm4 0h-2V7h2v10zm4 0h-2v-4h2v4z\"/>\n",
              "    </g>\n",
              "</svg>\n",
              "      </button>\n",
              "    </div>\n",
              "\n",
              "<style>\n",
              "  .colab-df-quickchart {\n",
              "    background-color: #E8F0FE;\n",
              "    border: none;\n",
              "    border-radius: 50%;\n",
              "    cursor: pointer;\n",
              "    display: none;\n",
              "    fill: #1967D2;\n",
              "    height: 32px;\n",
              "    padding: 0 0 0 0;\n",
              "    width: 32px;\n",
              "  }\n",
              "\n",
              "  .colab-df-quickchart:hover {\n",
              "    background-color: #E2EBFA;\n",
              "    box-shadow: 0px 1px 2px rgba(60, 64, 67, 0.3), 0px 1px 3px 1px rgba(60, 64, 67, 0.15);\n",
              "    fill: #174EA6;\n",
              "  }\n",
              "\n",
              "  [theme=dark] .colab-df-quickchart {\n",
              "    background-color: #3B4455;\n",
              "    fill: #D2E3FC;\n",
              "  }\n",
              "\n",
              "  [theme=dark] .colab-df-quickchart:hover {\n",
              "    background-color: #434B5C;\n",
              "    box-shadow: 0px 1px 3px 1px rgba(0, 0, 0, 0.15);\n",
              "    filter: drop-shadow(0px 1px 2px rgba(0, 0, 0, 0.3));\n",
              "    fill: #FFFFFF;\n",
              "  }\n",
              "</style>\n",
              "\n",
              "    <script>\n",
              "      async function quickchart(key) {\n",
              "        const containerElement = document.querySelector('#' + key);\n",
              "        const charts = await google.colab.kernel.invokeFunction(\n",
              "            'suggestCharts', [key], {});\n",
              "      }\n",
              "    </script>\n",
              "\n",
              "      <script>\n",
              "\n",
              "function displayQuickchartButton(domScope) {\n",
              "  let quickchartButtonEl =\n",
              "    domScope.querySelector('#df-64857bab-2c03-43e4-a2c2-fd8b3e0a113c button.colab-df-quickchart');\n",
              "  quickchartButtonEl.style.display =\n",
              "    google.colab.kernel.accessAllowed ? 'block' : 'none';\n",
              "}\n",
              "\n",
              "        displayQuickchartButton(document);\n",
              "      </script>\n",
              "      <style>\n",
              "    .colab-df-container {\n",
              "      display:flex;\n",
              "      flex-wrap:wrap;\n",
              "      gap: 12px;\n",
              "    }\n",
              "\n",
              "    .colab-df-convert {\n",
              "      background-color: #E8F0FE;\n",
              "      border: none;\n",
              "      border-radius: 50%;\n",
              "      cursor: pointer;\n",
              "      display: none;\n",
              "      fill: #1967D2;\n",
              "      height: 32px;\n",
              "      padding: 0 0 0 0;\n",
              "      width: 32px;\n",
              "    }\n",
              "\n",
              "    .colab-df-convert:hover {\n",
              "      background-color: #E2EBFA;\n",
              "      box-shadow: 0px 1px 2px rgba(60, 64, 67, 0.3), 0px 1px 3px 1px rgba(60, 64, 67, 0.15);\n",
              "      fill: #174EA6;\n",
              "    }\n",
              "\n",
              "    [theme=dark] .colab-df-convert {\n",
              "      background-color: #3B4455;\n",
              "      fill: #D2E3FC;\n",
              "    }\n",
              "\n",
              "    [theme=dark] .colab-df-convert:hover {\n",
              "      background-color: #434B5C;\n",
              "      box-shadow: 0px 1px 3px 1px rgba(0, 0, 0, 0.15);\n",
              "      filter: drop-shadow(0px 1px 2px rgba(0, 0, 0, 0.3));\n",
              "      fill: #FFFFFF;\n",
              "    }\n",
              "  </style>\n",
              "\n",
              "      <script>\n",
              "        const buttonEl =\n",
              "          document.querySelector('#df-99b2e659-4a43-4914-bff5-01266884c460 button.colab-df-convert');\n",
              "        buttonEl.style.display =\n",
              "          google.colab.kernel.accessAllowed ? 'block' : 'none';\n",
              "\n",
              "        async function convertToInteractive(key) {\n",
              "          const element = document.querySelector('#df-99b2e659-4a43-4914-bff5-01266884c460');\n",
              "          const dataTable =\n",
              "            await google.colab.kernel.invokeFunction('convertToInteractive',\n",
              "                                                     [key], {});\n",
              "          if (!dataTable) return;\n",
              "\n",
              "          const docLinkHtml = 'Like what you see? Visit the ' +\n",
              "            '<a target=\"_blank\" href=https://colab.research.google.com/notebooks/data_table.ipynb>data table notebook</a>'\n",
              "            + ' to learn more about interactive tables.';\n",
              "          element.innerHTML = '';\n",
              "          dataTable['output_type'] = 'display_data';\n",
              "          await google.colab.output.renderOutput(dataTable, element);\n",
              "          const docLink = document.createElement('div');\n",
              "          docLink.innerHTML = docLinkHtml;\n",
              "          element.appendChild(docLink);\n",
              "        }\n",
              "      </script>\n",
              "    </div>\n",
              "  </div>\n"
            ]
          },
          "metadata": {},
          "execution_count": 128
        }
      ]
    },
    {
      "cell_type": "code",
      "source": [
        "# Exibindo  dimensao da base de dados\n",
        "print(\"Dimensão dos dados:\")\n",
        "print(\"Linhas (Instâncias):{}\".format(data.shape[0]))\n",
        "print(\"Colunas (Atributos):{}\".format(data.shape[1]))"
      ],
      "metadata": {
        "colab": {
          "base_uri": "https://localhost:8080/"
        },
        "id": "Eh63x1AcRYyj",
        "outputId": "f24579e4-1381-40d8-faa8-afbfa746d3de"
      },
      "execution_count": null,
      "outputs": [
        {
          "output_type": "stream",
          "name": "stdout",
          "text": [
            "Dimensão dos dados:\n",
            "Linhas (Instâncias):569\n",
            "Colunas (Atributos):32\n"
          ]
        }
      ]
    },
    {
      "cell_type": "code",
      "source": [
        "#Verificando dados nulos\n",
        "data.isnull().sum()"
      ],
      "metadata": {
        "colab": {
          "base_uri": "https://localhost:8080/"
        },
        "id": "NB6jOq9wTjy1",
        "outputId": "469009f0-6ac1-4fff-ee26-afaf66e69ebc"
      },
      "execution_count": null,
      "outputs": [
        {
          "output_type": "execute_result",
          "data": {
            "text/plain": [
              "id                         0\n",
              "diagnosis                  0\n",
              "radius_mean                0\n",
              "texture_mean               0\n",
              "perimeter_mean             0\n",
              "area_mean                  0\n",
              "smoothness_mean            0\n",
              "compactness_mean           0\n",
              "concavity_mean             0\n",
              "concave points_mean        0\n",
              "symmetry_mean              0\n",
              "fractal_dimension_mean     0\n",
              "radius_se                  0\n",
              "texture_se                 0\n",
              "perimeter_se               0\n",
              "area_se                    0\n",
              "smoothness_se              0\n",
              "compactness_se             0\n",
              "concavity_se               0\n",
              "concave points_se          0\n",
              "symmetry_se                0\n",
              "fractal_dimension_se       0\n",
              "radius_worst               0\n",
              "texture_worst              0\n",
              "perimeter_worst            0\n",
              "area_worst                 0\n",
              "smoothness_worst           0\n",
              "compactness_worst          0\n",
              "concavity_worst            0\n",
              "concave points_worst       0\n",
              "symmetry_worst             0\n",
              "fractal_dimension_worst    0\n",
              "dtype: int64"
            ]
          },
          "metadata": {},
          "execution_count": 130
        }
      ]
    },
    {
      "cell_type": "code",
      "source": [
        "# Distribuicao das instancias\n",
        "B, M = data['diagnosis'].value_counts()\n",
        "print('Benignos : ',B)\n",
        "print('Malignos : ',M)\n",
        "print('---------------------')\n",
        "print('Proporção de Benignos: ', 100*B/(B+M))\n",
        "print('Proporção de Malignos: ', 100*M/(B+M))"
      ],
      "metadata": {
        "colab": {
          "base_uri": "https://localhost:8080/"
        },
        "id": "5ASpBMXFTvFf",
        "outputId": "1d798fc6-2718-455d-9022-22408b55666c"
      },
      "execution_count": null,
      "outputs": [
        {
          "output_type": "stream",
          "name": "stdout",
          "text": [
            "Benignos :  357\n",
            "Malignos :  212\n",
            "---------------------\n",
            "Proporção de Benignos:  62.74165202108963\n",
            "Proporção de Malignos:  37.25834797891037\n"
          ]
        }
      ]
    },
    {
      "cell_type": "code",
      "source": [
        "# Separando os dados em entrada e saida desejada e removendo as colunas 'diagnosis' e 'id'\n",
        "dadosEntrada = data.drop(['diagnosis','id'], axis=1)\n",
        "saidaDesejada = data['diagnosis']\n",
        "\n",
        "# Aplicando a função LabelEncoder na variavel saidaDesejada\n",
        "saidaDesejada = LabelEncoder().fit_transform(saidaDesejada)\n",
        "\n",
        "# Aplicando a funcao train_test_split para dividir o conjunto original em 70% para treindo e 30% para teste\n",
        "dadosEntrada_train, dadosEntrada_test, saidaDesejada_train, saidaDesejada_test = train_test_split(dadosEntrada, saidaDesejada, test_size=0.3, random_state=1)\n",
        "\n",
        "print('Tamanho Dados de Entrada Treinamento: ', len(dadosEntrada_train))\n",
        "print('Tamanho Dados de Entrada Teste: ', len(dadosEntrada_test))\n",
        "print('Tamanho Saída Desejada Treinamento: ', len(saidaDesejada_train))\n",
        "print('Tamanho Saída Desejada Teste: ', len(saidaDesejada_test))"
      ],
      "metadata": {
        "colab": {
          "base_uri": "https://localhost:8080/"
        },
        "id": "4nDJQzWLT6MI",
        "outputId": "f79d43d0-cf20-46d8-ea44-4cc9ec83f7b3"
      },
      "execution_count": null,
      "outputs": [
        {
          "output_type": "stream",
          "name": "stdout",
          "text": [
            "Tamanho Dados de Entrada Treinamento:  398\n",
            "Tamanho Dados de Entrada Teste:  171\n",
            "Tamanho Saída Desejada Treinamento:  398\n",
            "Tamanho Saída Desejada Teste:  171\n"
          ]
        }
      ]
    },
    {
      "cell_type": "code",
      "source": [
        "saidaDesejada_test"
      ],
      "metadata": {
        "colab": {
          "base_uri": "https://localhost:8080/"
        },
        "id": "KYcvKCDoMZX_",
        "outputId": "f1e48e4f-3702-43aa-9b24-d551c21e0e23"
      },
      "execution_count": null,
      "outputs": [
        {
          "output_type": "execute_result",
          "data": {
            "text/plain": [
              "array([1, 0, 0, 1, 0, 0, 1, 1, 0, 1, 1, 1, 1, 0, 1, 1, 1, 0, 1, 0, 1, 0,\n",
              "       0, 1, 0, 0, 1, 0, 0, 0, 0, 0, 1, 1, 1, 0, 0, 0, 0, 1, 0, 1, 0, 0,\n",
              "       0, 0, 1, 0, 0, 0, 0, 0, 0, 1, 1, 0, 1, 0, 1, 0, 0, 1, 1, 0, 0, 0,\n",
              "       0, 0, 1, 0, 0, 0, 1, 0, 0, 0, 0, 1, 1, 0, 1, 0, 0, 0, 0, 0, 1, 1,\n",
              "       0, 0, 0, 1, 1, 0, 1, 1, 1, 1, 0, 1, 1, 1, 0, 0, 0, 1, 0, 0, 0, 0,\n",
              "       0, 0, 1, 0, 0, 1, 0, 0, 0, 0, 1, 1, 1, 0, 1, 0, 0, 0, 1, 1, 0, 0,\n",
              "       0, 0, 0, 0, 0, 1, 1, 0, 1, 0, 0, 0, 0, 0, 1, 0, 0, 1, 0, 0, 0, 1,\n",
              "       0, 0, 1, 0, 0, 0, 0, 1, 0, 0, 1, 0, 0, 0, 0, 0, 1])"
            ]
          },
          "metadata": {},
          "execution_count": 153
        }
      ]
    },
    {
      "cell_type": "markdown",
      "source": [
        "Dividindo os dados de treino em quatro partes\n"
      ],
      "metadata": {
        "id": "VHcMfHrgyi95"
      }
    },
    {
      "cell_type": "code",
      "source": [
        "#Como precisamos de dividir o modelo de treinamento em 4 partes vamos fazer divisões por dois sucessivas para obter isso\n",
        "treino_um, treino_dois, saida_um, saida_dois= train_test_split(dadosEntrada_train, saidaDesejada_train, test_size=0.5, random_state=1)\n",
        "print('Tamanho treino 1: ',len(treino_um))\n",
        "print('Tamanho treino 2: ',len(treino_dois))\n",
        "print('Tamanho saida 1: ',len(saida_um))\n",
        "print('Tamanho saida 2: ',len(saida_dois))"
      ],
      "metadata": {
        "colab": {
          "base_uri": "https://localhost:8080/"
        },
        "id": "-1WmX224WGv5",
        "outputId": "40d2ecfa-839c-498a-c54f-76a855de6def"
      },
      "execution_count": null,
      "outputs": [
        {
          "output_type": "stream",
          "name": "stdout",
          "text": [
            "Tamanho treino 1:  199\n",
            "Tamanho treino 2:  199\n",
            "Tamanho saida 1:  199\n",
            "Tamanho saida 2:  199\n"
          ]
        }
      ]
    },
    {
      "cell_type": "code",
      "source": [
        "#Agora iremos dividir os dois grupos obtidos na iteração passada por dois, obtendo quatro grupos diferentes\n",
        "treino_um, treino_tres, saida_um, saida_tres= train_test_split(treino_um,saida_um, test_size=0.5, random_state=1)\n",
        "treino_dois, treino_quatro, saida_dois, saida_quatro= train_test_split(treino_dois, saida_dois, test_size=0.5, random_state=1)\n",
        "print('Tamanho treino 1: ',len(treino_um))\n",
        "print('Tamanho treino 2: ',len(treino_tres))\n",
        "print('Tamanho treino 3: ',len(treino_dois))\n",
        "print('Tamanho treino 4: ',len(treino_quatro))\n",
        "print('-----------------------')\n",
        "print('Tamanho saida 1: ',len(saida_um))\n",
        "print('Tamanho saida 2: ',len(saida_tres))\n",
        "print('Tamanho saida 3: ',len(saida_dois))\n",
        "print('Tamanho saida 4: ',len(saida_quatro))"
      ],
      "metadata": {
        "colab": {
          "base_uri": "https://localhost:8080/"
        },
        "id": "_3cmqysoaXvI",
        "outputId": "a4ba8c35-3050-4622-8f4e-4ef060bdb74a"
      },
      "execution_count": null,
      "outputs": [
        {
          "output_type": "stream",
          "name": "stdout",
          "text": [
            "Tamanho treino 1:  99\n",
            "Tamanho treino 2:  100\n",
            "Tamanho treino 3:  99\n",
            "Tamanho treino 4:  100\n",
            "-----------------------\n",
            "Tamanho saida 1:  99\n",
            "Tamanho saida 2:  100\n",
            "Tamanho saida 3:  99\n",
            "Tamanho saida 4:  100\n"
          ]
        }
      ]
    },
    {
      "cell_type": "markdown",
      "source": [
        "# K-NEAREST NEIGBOURS - KNN\n",
        "\n"
      ],
      "metadata": {
        "id": "BFJkVe1pu2Qi"
      }
    },
    {
      "cell_type": "code",
      "source": [
        "# Carregando o modelo inteligente e as metricas de desempenho\n",
        "#------------------------------------------------------------\n",
        "from sklearn.neighbors import KNeighborsClassifier\n",
        "from sklearn.metrics import accuracy_score, recall_score, precision_score, f1_score, confusion_matrix, classification_report,fbeta_score"
      ],
      "metadata": {
        "id": "bIYlCrWFwj-Q"
      },
      "execution_count": null,
      "outputs": []
    },
    {
      "cell_type": "code",
      "source": [
        "from sklearn.model_selection import GridSearchCV\n",
        "from sklearn.metrics import make_scorer\n",
        "# Definir parâmetros para busca em grade, esses parametros serao variados para atingir o objetivo pedido no trabalho (Devem ser geradas 15 variações de parâmetros para cada uma das 4 tecnicas de IA;)\n",
        "parameters = {\n",
        "    'n_neighbors': [3, 4, 5, 6, 7, 8, 9, 10, 11, 12, 13, 14, 15, 16, 17],\n",
        "    'metric': ['euclidean']\n",
        "}\n",
        "meus_scores = {'accuracy' :make_scorer(accuracy_score),\n",
        "               'recall'   :make_scorer(recall_score),\n",
        "               'precision':make_scorer(precision_score),\n",
        "               'f1'       :make_scorer(f1_score)}\n",
        "\n",
        "# Lista para armazenar os resultados dos modelos, vamos armazenar os melhores\n",
        "resultados = []\n",
        "\n",
        "# Armazenando cada conjunto em uma array para fazer o loop\n",
        "subconjuntos_treinamento = [treino_um, treino_dois, treino_tres, treino_quatro]\n",
        "subconjuntos_saida = [saida_um, saida_dois, saida_tres, saida_quatro]\n",
        "\n",
        "# Loop pelos subconjuntos de treinamento\n",
        "for i in range(len(subconjuntos_treinamento)):\n",
        "    X_train = subconjuntos_treinamento[i]\n",
        "    y_train = subconjuntos_saida[i]\n",
        "\n",
        "    # Criar o classificador de árvore de decisão\n",
        "    classificador = KNeighborsClassifier()\n",
        "\n",
        "    # Realizar busca em grade para encontrar a melhor combinação de parametros\n",
        "    buscaGrade = GridSearchCV(classificador, parameters, scoring = meus_scores, refit = 'recall', cv=5)\n",
        "    buscaGrade.fit(X_train, y_train)\n",
        "\n",
        "    # Obter os melhores parametros encontrados e a melhor pontuação\n",
        "    melhorParam = buscaGrade.best_params_\n",
        "    melhorPont = buscaGrade.best_score_\n",
        "\n",
        "    # Armazenar os resultados\n",
        "    resultados.append((melhorParam, melhorPont))\n",
        "\n",
        "# Exibir os resultados\n",
        "for i in range(len(resultados)):\n",
        "    print(f\"Resultados para subconjunto de treinamento {i+1}:\")\n",
        "    print(\"Melhores parâmetros:\", resultados[i][0])\n",
        "    print(\"Melhor pontuação:\", resultados[i][1])\n",
        "    print()"
      ],
      "metadata": {
        "colab": {
          "base_uri": "https://localhost:8080/"
        },
        "id": "RMQzwXYOtRDh",
        "outputId": "c9b28a2c-4c2b-4327-8055-a005924082e9"
      },
      "execution_count": null,
      "outputs": [
        {
          "output_type": "stream",
          "name": "stdout",
          "text": [
            "Resultados para subconjunto de treinamento 1:\n",
            "Melhores parâmetros: {'metric': 'euclidean', 'n_neighbors': 9}\n",
            "Melhor pontuação: 0.8805555555555555\n",
            "\n",
            "Resultados para subconjunto de treinamento 2:\n",
            "Melhores parâmetros: {'metric': 'euclidean', 'n_neighbors': 3}\n",
            "Melhor pontuação: 0.8642857142857142\n",
            "\n",
            "Resultados para subconjunto de treinamento 3:\n",
            "Melhores parâmetros: {'metric': 'euclidean', 'n_neighbors': 3}\n",
            "Melhor pontuação: 0.8285714285714286\n",
            "\n",
            "Resultados para subconjunto de treinamento 4:\n",
            "Melhores parâmetros: {'metric': 'euclidean', 'n_neighbors': 3}\n",
            "Melhor pontuação: 0.8392857142857142\n",
            "\n"
          ]
        }
      ]
    },
    {
      "cell_type": "markdown",
      "source": [
        "# Testando o KNN"
      ],
      "metadata": {
        "id": "Sl8IkSyIocUt"
      }
    },
    {
      "cell_type": "code",
      "source": [
        "import matplotlib.pyplot as plt\n",
        "import numpy\n",
        "from sklearn import metrics"
      ],
      "metadata": {
        "id": "4BKUuNPUg_dB"
      },
      "execution_count": null,
      "outputs": []
    },
    {
      "cell_type": "code",
      "source": [
        "# Loop pelos subconjuntos de teste\n",
        "predicao_KNN= [[] for i in range(4)]\n",
        "for i in range(4):\n",
        "\n",
        "    # Criar o classificador de arvore de decisao com os melhores parametros encontrados\n",
        "    classifier = KNeighborsClassifier(**resultados[i][0])\n",
        "\n",
        "    # Treinar o classificador com o conjunto de treinamento correspondente\n",
        "    classifier.fit(subconjuntos_treinamento[i], subconjuntos_saida[i])\n",
        "\n",
        "    # Fazer previsoes no conjunto de teste\n",
        "    y_pred = classifier.predict(dadosEntrada_test)\n",
        "    predicao_KNN[i] = y_pred\n",
        "\n",
        "    # Calcular todas as metricas\n",
        "    accuracy = accuracy_score(saidaDesejada_test, y_pred)\n",
        "    precision = precision_score(saidaDesejada_test, y_pred)\n",
        "    recall = recall_score(saidaDesejada_test, y_pred)  # Calcula a recall\n",
        "    f1 = f1_score(saidaDesejada_test, y_pred)  # Calcula o F1 score\n",
        "\n",
        "    # Exibicao dos resultados\n",
        "    print(f\"-----Subsconjundo de dados {i+1}-----\")\n",
        "    print(f\"Acuracia para o Teste : {accuracy}\")\n",
        "    print(f\"Precision para o Teste : {precision}\")\n",
        "    print(f\"Recall para o Teste : {recall}\")\n",
        "    print(f\"F1 Score para o Teste : {f1}\")\n",
        "    print(\"\\n\")\n",
        "    print(f\"-----Matriz de Confusão {i+1}-----\")\n",
        "\n",
        "    confusion_matrix = metrics.confusion_matrix(saidaDesejada_test,  y_pred)\n",
        "\n",
        "    cm_display = metrics.ConfusionMatrixDisplay(confusion_matrix = confusion_matrix, display_labels = [False, True])\n",
        "\n",
        "    cm_display.plot()\n",
        "    plt.show()\n"
      ],
      "metadata": {
        "colab": {
          "base_uri": "https://localhost:8080/",
          "height": 1000
        },
        "outputId": "4deb68c6-dbdb-4639-851f-fde7048f5049",
        "id": "Xupfxf-xlwDD"
      },
      "execution_count": null,
      "outputs": [
        {
          "output_type": "stream",
          "name": "stdout",
          "text": [
            "-----Subsconjundo de dados 1-----\n",
            "Acuracia para o Teste : 0.8830409356725146\n",
            "Precision para o Teste : 0.9375\n",
            "Recall para o Teste : 0.7258064516129032\n",
            "F1 Score para o Teste : 0.8181818181818181\n",
            "\n",
            "\n",
            "-----Matriz de Confusão 1-----\n"
          ]
        },
        {
          "output_type": "display_data",
          "data": {
            "text/plain": [
              "<Figure size 640x480 with 2 Axes>"
            ],
            "image/png": "[encoded data removed]"
          },
          "metadata": {}
        },
        {
          "output_type": "stream",
          "name": "stdout",
          "text": [
            "-----Subsconjundo de dados 2-----\n",
            "Acuracia para o Teste : 0.9005847953216374\n",
            "Precision para o Teste : 0.9591836734693877\n",
            "Recall para o Teste : 0.7580645161290323\n",
            "F1 Score para o Teste : 0.8468468468468467\n",
            "\n",
            "\n",
            "-----Matriz de Confusão 2-----\n"
          ]
        },
        {
          "output_type": "display_data",
          "data": {
            "text/plain": [
              "<Figure size 640x480 with 2 Axes>"
            ],
            "image/png": "[encoded data removed]"
          },
          "metadata": {}
        },
        {
          "output_type": "stream",
          "name": "stdout",
          "text": [
            "-----Subsconjundo de dados 3-----\n",
            "Acuracia para o Teste : 0.8654970760233918\n",
            "Precision para o Teste : 0.7910447761194029\n",
            "Recall para o Teste : 0.8548387096774194\n",
            "F1 Score para o Teste : 0.8217054263565892\n",
            "\n",
            "\n",
            "-----Matriz de Confusão 3-----\n"
          ]
        },
        {
          "output_type": "display_data",
          "data": {
            "text/plain": [
              "<Figure size 640x480 with 2 Axes>"
            ],
            "image/png": "[encoded data removed]"
          },
          "metadata": {}
        },
        {
          "output_type": "stream",
          "name": "stdout",
          "text": [
            "-----Subsconjundo de dados 4-----\n",
            "Acuracia para o Teste : 0.9064327485380117\n",
            "Precision para o Teste : 0.9791666666666666\n",
            "Recall para o Teste : 0.7580645161290323\n",
            "F1 Score para o Teste : 0.8545454545454544\n",
            "\n",
            "\n",
            "-----Matriz de Confusão 4-----\n"
          ]
        },
        {
          "output_type": "display_data",
          "data": {
            "text/plain": [
              "<Figure size 640x480 with 2 Axes>"
            ],
            "image/png": "[encoded data removed]"
          },
          "metadata": {}
        }
      ]
    },
    {
      "cell_type": "code",
      "source": [
        "for i in range(4):\n",
        "  print(f\"Lista de Resultados do Teste {i+1}\")\n",
        "  print()\n",
        "  print(predicao_KNN[i])\n",
        "  print()"
      ],
      "metadata": {
        "colab": {
          "base_uri": "https://localhost:8080/"
        },
        "id": "3H6DaXkWuFrF",
        "outputId": "edbcd588-4924-47d1-de9a-ebe1d28ca994"
      },
      "execution_count": null,
      "outputs": [
        {
          "output_type": "stream",
          "name": "stdout",
          "text": [
            "Lista de Resultados do Teste 1\n",
            "\n",
            "[1 0 0 1 0 0 0 1 0 1 1 1 0 0 0 1 1 0 1 0 0 0 0 1 1 0 1 0 0 0 0 0 1 1 1 0 0\n",
            " 0 0 0 0 1 0 0 0 0 0 0 0 0 0 0 0 1 1 0 1 0 1 0 0 1 0 0 0 0 0 0 0 0 0 0 1 0\n",
            " 0 0 0 1 1 0 0 0 0 0 0 0 1 0 0 0 0 0 1 0 1 0 1 1 0 0 1 1 0 0 0 1 0 1 0 0 0\n",
            " 0 1 0 0 1 0 0 1 0 1 1 1 0 1 0 0 0 1 0 0 0 0 0 0 0 0 1 1 0 0 0 0 0 0 0 1 0\n",
            " 0 1 0 0 0 0 0 0 0 0 0 0 0 1 0 0 1 0 0 0 0 0 1]\n",
            "\n",
            "Lista de Resultados do Teste 2\n",
            "\n",
            "[1 0 0 1 0 0 0 1 0 1 1 1 1 0 0 1 1 0 1 0 0 0 0 1 0 0 1 0 0 0 0 0 1 1 1 0 0\n",
            " 0 0 0 0 1 0 0 0 0 0 0 0 0 0 0 0 1 1 0 0 0 1 0 0 1 1 0 0 0 0 0 0 0 0 0 1 0\n",
            " 0 0 0 1 1 0 0 0 0 0 0 0 1 0 0 0 0 0 1 0 1 0 1 1 0 0 1 1 0 0 0 1 0 1 0 0 0\n",
            " 0 1 0 0 1 0 0 0 0 1 1 1 0 1 0 0 1 1 0 0 0 0 0 0 0 0 1 1 0 0 0 0 0 0 0 1 0\n",
            " 0 1 0 0 0 0 0 0 1 0 0 0 0 1 0 0 1 0 0 0 0 0 1]\n",
            "\n",
            "Lista de Resultados do Teste 3\n",
            "\n",
            "[1 0 0 1 1 0 0 1 0 1 1 1 1 0 0 1 1 0 1 0 1 0 0 1 1 0 1 0 0 0 0 0 1 1 1 0 0\n",
            " 0 0 0 1 1 0 0 0 0 1 0 0 0 0 0 0 1 1 0 1 0 1 0 1 1 0 0 0 0 0 1 1 0 0 0 1 1\n",
            " 0 1 1 1 1 0 0 0 0 0 0 0 1 0 0 0 0 0 1 0 1 1 1 1 0 1 1 1 0 0 0 1 0 1 0 0 0\n",
            " 0 1 0 1 1 0 0 1 0 1 1 1 0 1 0 0 1 1 0 0 0 0 0 0 0 0 1 1 0 1 0 0 0 0 0 1 1\n",
            " 0 1 0 0 0 1 0 1 0 0 0 0 0 1 0 0 1 0 0 0 0 0 1]\n",
            "\n",
            "Lista de Resultados do Teste 4\n",
            "\n",
            "[1 0 0 1 0 0 0 1 0 1 0 1 1 0 0 1 1 0 1 0 0 0 0 1 0 0 1 0 0 0 0 0 1 1 1 0 0\n",
            " 0 0 0 0 1 0 0 0 0 0 0 0 0 0 0 0 1 1 0 1 0 1 0 0 1 0 0 0 0 0 0 0 0 0 0 1 0\n",
            " 0 0 0 1 1 0 0 0 0 0 0 0 1 0 0 0 0 0 1 0 1 0 1 1 0 1 1 1 0 0 0 1 0 1 0 0 0\n",
            " 0 1 0 0 1 0 0 0 0 1 1 1 0 1 0 0 0 1 0 0 0 0 0 0 0 0 1 1 0 1 0 0 0 0 0 1 0\n",
            " 0 1 0 0 0 0 0 0 0 0 0 0 0 1 0 0 1 0 0 0 0 0 1]\n",
            "\n"
          ]
        }
      ]
    },
    {
      "cell_type": "markdown",
      "source": [
        "# FLORESTA ALEATÓRIA"
      ],
      "metadata": {
        "id": "NsbC9IhW8qer"
      }
    },
    {
      "cell_type": "code",
      "source": [
        "# Carregando o modelo inteligente e as metricas de desempenho\n",
        "#------------------------------------------------------------\n",
        "from sklearn.ensemble import RandomForestClassifier"
      ],
      "metadata": {
        "id": "ef1SP1qo8qes"
      },
      "execution_count": null,
      "outputs": []
    },
    {
      "cell_type": "code",
      "source": [
        "from sklearn.metrics import r2_score\n",
        "from sklearn.metrics import mean_squared_error\n",
        "from math import sqrt\n",
        "from sklearn import metrics"
      ],
      "metadata": {
        "id": "W4VGbJ2hwZrG"
      },
      "execution_count": null,
      "outputs": []
    },
    {
      "cell_type": "code",
      "source": [
        "from sklearn.model_selection import GridSearchCV\n",
        "from sklearn.metrics import make_scorer\n",
        "# Definir parâmetros para busca em grade, esses parametros serao variados para atingir o objetivo pedido no trabalho (Devem ser geradas 15 variações de parâmetros para cada uma das 4 tecnicas de IA;)\n",
        "parameters = {\n",
        "    'n_estimators': [200],\n",
        "    'max_depth': [5, 10, 15,20,25,30,35,40,45,50,55,60,65,70,75]\n",
        "}\n",
        "meus_scores = {'accuracy' :make_scorer(accuracy_score),\n",
        "               'recall'   :make_scorer(recall_score),\n",
        "               'precision':make_scorer(precision_score),\n",
        "               'f1'       :make_scorer(f1_score)}\n",
        "# Lista para armazenar os resultados dos modelos, vamos armazenar os melhores\n",
        "resultados = []\n",
        "\n",
        "# Armazenando cada conjunto em uma array para fazer o loop\n",
        "subconjuntos_treinamento = [treino_um, treino_dois, treino_tres, treino_quatro]\n",
        "subconjuntos_saida = [saida_um, saida_dois, saida_tres, saida_quatro]\n",
        "\n",
        "# Loop pelos subconjuntos de treinamento\n",
        "for i in range(len(subconjuntos_treinamento)):\n",
        "    X_train = subconjuntos_treinamento[i]\n",
        "    y_train = subconjuntos_saida[i]\n",
        "\n",
        "    # Criar o classificador de árvore de decisão\n",
        "    classificador = RandomForestClassifier(n_jobs=-1)\n",
        "\n",
        "    # Realizar busca em grade para encontrar a melhor combinação de parametros\n",
        "    buscaGrade = GridSearchCV(classificador, parameters, scoring=meus_scores, refit = 'recall', cv=5)\n",
        "    buscaGrade.fit(X_train, y_train)\n",
        "\n",
        "    # Obter os melhores parametros encontrados e a melhor pontuação\n",
        "    melhorParam = buscaGrade.best_params_\n",
        "    melhorPont = buscaGrade.best_score_\n",
        "\n",
        "    # Armazenar os resultados\n",
        "    resultados.append((melhorParam, melhorPont))\n",
        "\n",
        "# Exibir os resultados\n",
        "for i in range(len(resultados)):\n",
        "    print(f\"Resultados para subconjunto de treinamento {i+1}:\")\n",
        "    print(\"Melhores parâmetros:\", resultados[i][0])\n",
        "    print(\"Melhor pontuação:\", resultados[i][1])\n",
        "    print()"
      ],
      "metadata": {
        "colab": {
          "base_uri": "https://localhost:8080/"
        },
        "outputId": "2e213efe-5da0-40ab-ec45-09d4470a6a66",
        "id": "sNyDidmK8qeu"
      },
      "execution_count": null,
      "outputs": [
        {
          "output_type": "stream",
          "name": "stdout",
          "text": [
            "Resultados para subconjunto de treinamento 1:\n",
            "Melhores parâmetros: {'max_depth': 5, 'n_estimators': 200}\n",
            "Melhor pontuação: 0.9305555555555556\n",
            "\n",
            "Resultados para subconjunto de treinamento 2:\n",
            "Melhores parâmetros: {'max_depth': 5, 'n_estimators': 200}\n",
            "Melhor pontuação: 0.8928571428571429\n",
            "\n",
            "Resultados para subconjunto de treinamento 3:\n",
            "Melhores parâmetros: {'max_depth': 10, 'n_estimators': 200}\n",
            "Melhor pontuação: 0.8571428571428571\n",
            "\n",
            "Resultados para subconjunto de treinamento 4:\n",
            "Melhores parâmetros: {'max_depth': 10, 'n_estimators': 200}\n",
            "Melhor pontuação: 0.8714285714285716\n",
            "\n"
          ]
        }
      ]
    },
    {
      "cell_type": "markdown",
      "source": [
        "# Testando a Floresta Aleatória"
      ],
      "metadata": {
        "id": "wmsjnEBPoq4s"
      }
    },
    {
      "cell_type": "code",
      "source": [
        "import matplotlib.pyplot as plt\n",
        "import numpy\n",
        "from sklearn import metrics"
      ],
      "metadata": {
        "id": "kwnaU4cKmqWF"
      },
      "execution_count": null,
      "outputs": []
    },
    {
      "cell_type": "code",
      "source": [
        "# Loop pelos subconjuntos de teste\n",
        "predicao_Floresta= [[] for i in range(4)]\n",
        "for i in range(4):\n",
        "\n",
        "    # Criar o classificador de arvore de decisao com os melhores parametros encontrados\n",
        "    classifier = RandomForestClassifier(**resultados[i][0])\n",
        "\n",
        "    # Treinar o classificador com o conjunto de treinamento correspondente\n",
        "    classifier.fit(subconjuntos_treinamento[i], subconjuntos_saida[i])\n",
        "\n",
        "    # Fazer previsoes no conjunto de teste\n",
        "    y_pred = classifier.predict(dadosEntrada_test)\n",
        "    predicao_Floresta[i] = y_pred\n",
        "\n",
        "  # Calcular todas as metricas\n",
        "    accuracy = accuracy_score(saidaDesejada_test, y_pred)\n",
        "    precision = precision_score(saidaDesejada_test, y_pred)\n",
        "    recall = recall_score(saidaDesejada_test, y_pred)  # Calcula a recall\n",
        "    f1 = f1_score(saidaDesejada_test, y_pred)  # Calcula o F1 score\n",
        "\n",
        "    # Exibicao dos resultados\n",
        "    print(f\"-----Subsconjundo de dados {i+1}-----\")\n",
        "    print(f\"Acuracia para o Teste : {accuracy}\")\n",
        "    print(f\"Precision para o Teste : {precision}\")\n",
        "    print(f\"Recall para o Teste : {recall}\")\n",
        "    print(f\"F1 Score para o Teste : {f1}\")\n",
        "    print(\"\\n\")\n",
        "    print(f\"-----Matriz de Confusão {i+1}-----\")\n",
        "\n",
        "    confusion_matrix = metrics.confusion_matrix(saidaDesejada_test,  y_pred)\n",
        "\n",
        "    cm_display = metrics.ConfusionMatrixDisplay(confusion_matrix = confusion_matrix, display_labels = [False, True])\n",
        "\n",
        "    cm_display.plot()\n",
        "    plt.show()\n"
      ],
      "metadata": {
        "colab": {
          "base_uri": "https://localhost:8080/"
        },
        "id": "yrIOHS0KghMk",
        "outputId": "da6d7f8b-3f2b-4df1-f5af-82bc0b5cf044"
      },
      "execution_count": null,
      "outputs": [
        {
          "output_type": "stream",
          "name": "stdout",
          "text": [
            "-----Subsconjundo de dados 1-----\n",
            "Acuracia para o Teste : 0.9181286549707602\n",
            "Precision para o Teste : 0.9444444444444444\n",
            "Recall para o Teste : 0.8225806451612904\n",
            "F1 Score para o Teste : 0.8793103448275862\n",
            "\n",
            "\n",
            "-----Matriz de Confusão 1-----\n"
          ]
        },
        {
          "output_type": "display_data",
          "data": {
            "text/plain": [
              "<Figure size 640x480 with 2 Axes>"
            ],
            "image/png": "[encoded data removed]"
          },
          "metadata": {}
        },
        {
          "output_type": "stream",
          "name": "stdout",
          "text": [
            "-----Subsconjundo de dados 2-----\n",
            "Acuracia para o Teste : 0.9298245614035088\n",
            "Precision para o Teste : 0.9464285714285714\n",
            "Recall para o Teste : 0.8548387096774194\n",
            "F1 Score para o Teste : 0.8983050847457628\n",
            "\n",
            "\n",
            "-----Matriz de Confusão 2-----\n"
          ]
        },
        {
          "output_type": "display_data",
          "data": {
            "text/plain": [
              "<Figure size 640x480 with 2 Axes>"
            ],
            "image/png": "[encoded data removed]"
          },
          "metadata": {}
        },
        {
          "output_type": "stream",
          "name": "stdout",
          "text": [
            "-----Subsconjundo de dados 3-----\n",
            "Acuracia para o Teste : 0.9473684210526315\n",
            "Precision para o Teste : 0.9344262295081968\n",
            "Recall para o Teste : 0.9193548387096774\n",
            "F1 Score para o Teste : 0.9268292682926829\n",
            "\n",
            "\n",
            "-----Matriz de Confusão 3-----\n"
          ]
        },
        {
          "output_type": "display_data",
          "data": {
            "text/plain": [
              "<Figure size 640x480 with 2 Axes>"
            ],
            "image/png": "[encoded data removed]"
          },
          "metadata": {}
        },
        {
          "output_type": "stream",
          "name": "stdout",
          "text": [
            "-----Subsconjundo de dados 4-----\n",
            "Acuracia para o Teste : 0.9298245614035088\n",
            "Precision para o Teste : 0.9629629629629629\n",
            "Recall para o Teste : 0.8387096774193549\n",
            "F1 Score para o Teste : 0.896551724137931\n",
            "\n",
            "\n",
            "-----Matriz de Confusão 4-----\n"
          ]
        },
        {
          "output_type": "display_data",
          "data": {
            "text/plain": [
              "<Figure size 640x480 with 2 Axes>"
            ],
            "image/png": "[encoded data removed]"
          },
          "metadata": {}
        }
      ]
    },
    {
      "cell_type": "code",
      "source": [
        "for i in range(4):\n",
        "  print(f\"Lista de Resultados do Teste {i+1}\")\n",
        "  print()\n",
        "  print(predicao_Floresta[i])\n",
        "  print()"
      ],
      "metadata": {
        "colab": {
          "base_uri": "https://localhost:8080/"
        },
        "id": "iL58vOGs6X4j",
        "outputId": "545177a1-0208-4bf0-b709-4a93372b14bc"
      },
      "execution_count": null,
      "outputs": [
        {
          "output_type": "stream",
          "name": "stdout",
          "text": [
            "Lista de Resultados do Teste 1\n",
            "\n",
            "[1 0 0 1 0 0 0 1 0 1 1 1 1 0 0 1 1 0 1 0 1 0 0 1 1 0 1 0 0 0 0 0 1 1 1 0 0\n",
            " 0 0 0 0 1 0 0 0 0 0 0 0 0 0 0 0 1 1 0 1 0 1 0 0 1 0 0 0 0 0 0 1 0 0 0 1 0\n",
            " 0 0 0 1 1 0 0 0 0 0 0 0 1 0 0 0 0 0 1 0 1 0 1 1 0 1 1 1 0 0 0 1 0 1 0 0 0\n",
            " 0 1 0 0 1 0 0 1 0 1 1 1 0 1 0 0 0 1 0 0 0 0 0 0 0 0 1 1 0 1 0 0 0 0 0 1 0\n",
            " 0 1 0 0 0 1 0 0 0 0 0 0 0 1 0 0 1 0 0 0 0 0 1]\n",
            "\n",
            "Lista de Resultados do Teste 2\n",
            "\n",
            "[1 0 0 1 0 0 0 1 0 1 1 1 1 0 0 1 1 0 1 0 1 0 0 1 1 0 1 0 0 0 0 0 1 1 1 0 0\n",
            " 0 0 1 0 1 0 0 0 0 0 0 0 0 0 0 0 1 1 0 1 0 1 0 0 1 0 0 0 0 0 0 1 0 0 0 1 0\n",
            " 0 0 0 1 1 0 0 0 0 0 0 0 1 0 0 0 0 0 1 0 1 0 1 1 0 1 1 1 0 0 0 1 0 1 0 0 0\n",
            " 0 1 0 0 1 0 0 0 0 1 1 1 0 1 0 0 1 1 0 0 0 0 0 0 0 0 1 1 0 1 0 0 0 0 0 1 0\n",
            " 0 1 0 0 0 1 0 0 1 0 0 0 0 1 0 0 1 0 0 0 0 0 1]\n",
            "\n",
            "Lista de Resultados do Teste 3\n",
            "\n",
            "[1 0 0 1 0 0 1 1 0 1 1 1 1 0 0 1 1 0 1 0 1 0 0 1 1 0 1 0 0 0 0 0 1 1 1 0 0\n",
            " 0 0 1 0 1 0 0 0 0 0 0 0 0 0 0 0 1 1 0 1 0 1 0 0 1 1 0 0 0 0 0 1 0 0 0 1 0\n",
            " 0 0 0 1 1 0 0 0 0 0 0 0 1 1 0 0 0 1 1 0 1 0 1 1 0 1 1 1 0 0 0 1 0 1 0 0 0\n",
            " 0 1 0 1 1 1 0 0 0 1 1 1 0 1 0 0 0 1 0 0 0 0 0 0 0 0 1 1 0 1 0 0 0 0 0 1 0\n",
            " 0 1 0 0 0 1 0 0 1 0 0 0 0 1 0 0 1 0 0 0 0 0 1]\n",
            "\n",
            "Lista de Resultados do Teste 4\n",
            "\n",
            "[1 0 0 1 0 0 0 1 0 1 1 1 1 0 0 1 1 0 1 0 1 0 0 1 1 0 1 0 0 0 0 0 1 1 1 0 0\n",
            " 0 0 0 0 1 0 0 0 0 0 0 0 0 0 0 0 1 1 0 1 0 1 0 0 1 0 0 0 0 0 0 1 0 0 0 1 0\n",
            " 0 0 0 1 1 0 0 0 0 0 0 0 1 0 0 0 0 0 1 0 1 0 1 1 0 1 1 1 0 0 0 1 0 1 0 0 0\n",
            " 0 1 0 0 1 0 0 0 0 1 1 1 0 1 0 0 0 1 0 0 0 0 0 0 0 0 1 1 0 1 0 0 0 0 0 1 0\n",
            " 0 1 0 0 0 1 0 0 1 0 0 0 0 1 0 0 1 0 0 0 0 0 1]\n",
            "\n"
          ]
        }
      ]
    },
    {
      "cell_type": "markdown",
      "source": [
        "# Árvore de Decisão"
      ],
      "metadata": {
        "id": "rD0E81kMvXcT"
      }
    },
    {
      "cell_type": "code",
      "source": [
        "# Importando bibliotecas\n",
        "from sklearn.tree import DecisionTreeClassifier\n",
        "from sklearn.model_selection import GridSearchCV\n",
        "\n",
        "# Definir parâmetros para busca em grade, esses parametros serao variados para atingir o objetivo pedido no trabalho (Devem ser geradas 15 variações de parâmetros para cada uma das 4 tecnicas de IA;)\n",
        "parameters = {\n",
        "    'criterion': ['gini', 'entropy'], # Gini mede a impureza de um no com base na probabilidade de classificacao incorreta e entropy a impureza com base na informacao\n",
        "    'max_depth': [5, 10, 15],\n",
        "    'min_samples_split': [2, 5, 10],\n",
        "    'min_samples_leaf': [1, 2, 5]\n",
        "}\n",
        "\n",
        "# Lista para armazenar os resultados dos modelos, vamos armazenar os melhores\n",
        "resultados = []\n",
        "\n",
        "# Armazenando cada conjunto em uma array para fazer o loop\n",
        "subconjuntos_treinamento = [treino_um, treino_dois, treino_tres, treino_quatro]\n",
        "subconjuntos_saida = [saida_um, saida_dois, saida_tres, saida_quatro]\n",
        "\n",
        "# Loop pelos subconjuntos de treinamento\n",
        "for i in range(len(subconjuntos_treinamento)):\n",
        "    X_train = subconjuntos_treinamento[i]\n",
        "    y_train = subconjuntos_saida[i]\n",
        "\n",
        "    # Criar o classificador de árvore de decisão\n",
        "    classificador = DecisionTreeClassifier()\n",
        "\n",
        "    # Realizar busca em grade para encontrar a melhor combinação de parametros\n",
        "    buscaGrade = GridSearchCV(classificador, parameters, scoring='accuracy', cv=5)\n",
        "    buscaGrade.fit(X_train, y_train)\n",
        "\n",
        "    # Obter os melhores parametros encontrados e a melhor pontuação\n",
        "    melhorParam = buscaGrade.best_params_\n",
        "    melhorPont = buscaGrade.best_score_\n",
        "\n",
        "    # Armazenar os resultados\n",
        "    resultados.append((melhorParam, melhorPont))\n",
        "\n",
        "# Exibir os resultados\n",
        "for i in range(len(resultados)):\n",
        "    print(f\"Resultados para subconjunto de treinamento {i+1}:\")\n",
        "    print(\"Melhores parâmetros:\", resultados[i][0])\n",
        "    print(\"Melhor pontuação:\", resultados[i][1])\n",
        "    print()\n"
      ],
      "metadata": {
        "colab": {
          "base_uri": "https://localhost:8080/"
        },
        "id": "lv1NTSDU_6BL",
        "outputId": "f3470610-5ee0-4e96-856e-0be2dbecfe1a"
      },
      "execution_count": null,
      "outputs": [
        {
          "output_type": "stream",
          "name": "stdout",
          "text": [
            "Resultados para subconjunto de treinamento 1:\n",
            "Melhores parâmetros: {'criterion': 'gini', 'max_depth': 10, 'min_samples_leaf': 1, 'min_samples_split': 5}\n",
            "Melhor pontuação: 0.9494736842105264\n",
            "\n",
            "Resultados para subconjunto de treinamento 2:\n",
            "Melhores parâmetros: {'criterion': 'gini', 'max_depth': 5, 'min_samples_leaf': 5, 'min_samples_split': 2}\n",
            "Melhor pontuação: 0.9494736842105264\n",
            "\n",
            "Resultados para subconjunto de treinamento 3:\n",
            "Melhores parâmetros: {'criterion': 'entropy', 'max_depth': 10, 'min_samples_leaf': 1, 'min_samples_split': 5}\n",
            "Melhor pontuação: 0.9299999999999999\n",
            "\n",
            "Resultados para subconjunto de treinamento 4:\n",
            "Melhores parâmetros: {'criterion': 'entropy', 'max_depth': 15, 'min_samples_leaf': 2, 'min_samples_split': 5}\n",
            "Melhor pontuação: 0.9299999999999999\n",
            "\n"
          ]
        }
      ]
    },
    {
      "cell_type": "markdown",
      "source": [
        "# Testando a árvore de Decisão"
      ],
      "metadata": {
        "id": "FDwrgNySvdtu"
      }
    },
    {
      "cell_type": "code",
      "source": [
        "# Importando bibliotecas\n",
        "from sklearn.metrics import accuracy_score, recall_score, f1_score, confusion_matrix, classification_report\n",
        "\n",
        "# Criando subconjuntos para os testes\n",
        "subconjuntos_teste = [dadosEntrada_test, dadosEntrada_test, dadosEntrada_test, dadosEntrada_test]\n",
        "subconjuntos_saida_teste = [saidaDesejada_test, saidaDesejada_test, saidaDesejada_test, saidaDesejada_test]\n",
        "\n",
        "predicao_arvore= [[] for i in range(4)]\n",
        "# Loop pelos subconjuntos de teste\n",
        "for i in range(len(subconjuntos_teste)):\n",
        "    X_test = subconjuntos_teste[i]\n",
        "    y_test = subconjuntos_saida_teste[i]\n",
        "\n",
        "    # Criar o classificador de arvore de decisao com os melhores parametros encontrados\n",
        "    classifier = DecisionTreeClassifier(**resultados[i][0])\n",
        "\n",
        "    # Treinar o classificador com o conjunto de treinamento correspondente\n",
        "    classifier.fit(subconjuntos_treinamento[i], subconjuntos_saida[i])\n",
        "\n",
        "    # Fazer previsoes no conjunto de teste\n",
        "    y_pred = classifier.predict(X_test)\n",
        "    predicao_arvore[i] = y_pred\n",
        "\n",
        "    # Calcular todas as metricas\n",
        "    accuracy = accuracy_score(saidaDesejada_test, y_pred)\n",
        "    accuracy = accuracy_score(saidaDesejada_test, y_pred)\n",
        "    recall = recall_score(saidaDesejada_test, y_pred)  # Calcula a recall\n",
        "    f1 = f1_score(saidaDesejada_test, y_pred) # Calcula o F1 score\n",
        "\n",
        "    # Exibicao dos resultados\n",
        "    print(f\"Previsao para o subconjunto de teste {i+1}: {y_pred}\")\n",
        "    print(f\"Acuracia para subconjunto de teste {i+1}: {accuracy}\")\n",
        "    print(f\"Recall para subconjunto de teste {i+1}: {recall}\")\n",
        "    print(f\"F1 Score para subconjunto de teste {i+1}: {f1}\")\n",
        "    print(\"Matriz de Confusao:\")\n",
        "    print(classification_report(y_test, y_pred)) # plotando o relatório (de cima)\n",
        "    print()\n"
      ],
      "metadata": {
        "colab": {
          "base_uri": "https://localhost:8080/"
        },
        "id": "LtX6T4WaAo31",
        "outputId": "d2ffbc04-de34-48e2-cd8a-b78055839272"
      },
      "execution_count": null,
      "outputs": [
        {
          "output_type": "stream",
          "name": "stdout",
          "text": [
            "Previsao para o subconjunto de teste 1: [1 0 0 1 0 0 0 1 0 1 1 1 1 0 0 1 1 0 1 0 1 0 0 1 1 0 1 0 0 1 0 0 1 1 1 0 0\n",
            " 0 0 0 0 1 0 0 0 0 1 0 0 0 0 0 0 1 1 0 0 0 1 0 1 1 0 0 0 0 0 0 1 0 0 0 1 0\n",
            " 0 0 0 1 1 0 0 0 0 0 0 0 1 0 0 0 0 0 1 0 1 0 1 1 0 0 1 1 0 0 0 1 0 1 0 0 0\n",
            " 0 1 0 1 1 1 0 1 0 1 1 1 0 1 0 0 1 1 0 0 0 0 0 0 0 0 1 1 0 1 0 0 0 0 0 1 0\n",
            " 0 1 0 0 0 1 0 0 1 0 0 0 0 1 0 0 1 0 0 0 0 0 1]\n",
            "Acuracia para subconjunto de teste 1: 0.8888888888888888\n",
            "Recall para subconjunto de teste 1: 0.8225806451612904\n",
            "F1 Score para subconjunto de teste 1: 0.8429752066115702\n",
            "Matriz de Confusao:\n",
            "              precision    recall  f1-score   support\n",
            "\n",
            "           0       0.90      0.93      0.91       109\n",
            "           1       0.86      0.82      0.84        62\n",
            "\n",
            "    accuracy                           0.89       171\n",
            "   macro avg       0.88      0.87      0.88       171\n",
            "weighted avg       0.89      0.89      0.89       171\n",
            "\n",
            "\n",
            "Previsao para o subconjunto de teste 2: [1 0 0 1 0 0 0 1 0 1 1 1 1 0 0 1 1 0 1 0 1 0 0 1 1 0 1 0 0 0 0 0 1 1 1 0 0\n",
            " 0 0 1 0 1 0 0 0 0 0 0 0 0 0 0 0 1 1 0 1 0 1 0 1 1 0 0 0 0 0 0 1 0 0 0 1 1\n",
            " 0 0 0 1 1 0 0 0 0 0 0 0 1 0 0 0 0 1 1 0 1 1 1 1 0 1 1 1 0 0 0 1 0 1 0 0 0\n",
            " 0 1 0 1 1 1 0 1 0 1 1 1 1 1 0 0 1 1 0 0 0 0 0 0 1 0 1 1 0 1 0 0 0 0 0 1 0\n",
            " 0 1 0 0 0 1 0 0 1 0 0 0 0 1 0 0 1 0 0 0 0 0 1]\n",
            "Acuracia para subconjunto de teste 2: 0.9005847953216374\n",
            "Recall para subconjunto de teste 2: 0.8870967741935484\n",
            "F1 Score para subconjunto de teste 2: 0.8661417322834646\n",
            "Matriz de Confusao:\n",
            "              precision    recall  f1-score   support\n",
            "\n",
            "           0       0.93      0.91      0.92       109\n",
            "           1       0.85      0.89      0.87        62\n",
            "\n",
            "    accuracy                           0.90       171\n",
            "   macro avg       0.89      0.90      0.89       171\n",
            "weighted avg       0.90      0.90      0.90       171\n",
            "\n",
            "\n",
            "Previsao para o subconjunto de teste 3: [1 0 0 1 0 0 1 1 0 1 1 1 0 0 1 1 1 0 1 0 1 0 0 1 1 0 1 0 0 0 0 0 1 1 1 0 0\n",
            " 0 0 1 0 1 0 0 0 0 0 0 0 0 1 0 0 0 1 0 1 0 1 0 1 1 1 0 0 0 0 0 1 0 1 0 1 1\n",
            " 0 0 0 1 1 0 0 0 0 0 1 0 1 1 0 0 0 1 1 0 1 1 1 0 0 1 1 1 0 0 0 1 1 1 0 0 0\n",
            " 0 1 0 1 1 1 0 1 0 1 1 1 1 0 0 0 1 1 0 0 0 0 0 0 1 0 1 1 1 1 0 0 0 0 0 1 0\n",
            " 0 1 0 0 0 1 0 0 1 0 0 0 0 0 0 0 1 0 0 1 0 0 1]\n",
            "Acuracia para subconjunto de teste 3: 0.8596491228070176\n",
            "Recall para subconjunto de teste 3: 0.8709677419354839\n",
            "F1 Score para subconjunto de teste 3: 0.8181818181818182\n",
            "Matriz de Confusao:\n",
            "              precision    recall  f1-score   support\n",
            "\n",
            "           0       0.92      0.85      0.89       109\n",
            "           1       0.77      0.87      0.82        62\n",
            "\n",
            "    accuracy                           0.86       171\n",
            "   macro avg       0.85      0.86      0.85       171\n",
            "weighted avg       0.87      0.86      0.86       171\n",
            "\n",
            "\n",
            "Previsao para o subconjunto de teste 4: [1 0 0 1 0 0 0 1 0 1 1 1 1 0 0 1 1 0 1 0 1 0 0 1 0 0 1 0 0 0 0 0 1 1 1 0 0\n",
            " 0 0 0 0 1 0 0 0 0 0 0 0 0 0 0 0 1 1 0 1 0 1 0 0 1 1 0 0 0 0 0 1 0 0 0 1 0\n",
            " 0 0 0 1 1 0 0 0 0 0 0 0 1 0 0 0 0 0 1 0 1 0 1 1 0 0 1 1 0 0 0 1 0 1 0 0 0\n",
            " 0 1 0 0 1 0 0 0 0 1 1 1 0 1 0 0 0 1 0 0 0 0 0 0 0 0 1 1 0 0 0 0 0 0 0 1 0\n",
            " 0 1 0 0 0 1 0 0 0 0 0 0 0 1 0 0 1 0 0 0 0 0 1]\n",
            "Acuracia para subconjunto de teste 4: 0.9239766081871345\n",
            "Recall para subconjunto de teste 4: 0.8064516129032258\n",
            "F1 Score para subconjunto de teste 4: 0.8849557522123893\n",
            "Matriz de Confusao:\n",
            "              precision    recall  f1-score   support\n",
            "\n",
            "           0       0.90      0.99      0.94       109\n",
            "           1       0.98      0.81      0.88        62\n",
            "\n",
            "    accuracy                           0.92       171\n",
            "   macro avg       0.94      0.90      0.91       171\n",
            "weighted avg       0.93      0.92      0.92       171\n",
            "\n",
            "\n"
          ]
        }
      ]
    },
    {
      "cell_type": "code",
      "source": [
        "for i in range(4):\n",
        "  print(f\"Lista de Resultados do Teste {i+1}\")\n",
        "  print()\n",
        "  print(predicao_arvore[i])\n",
        "  print()"
      ],
      "metadata": {
        "colab": {
          "base_uri": "https://localhost:8080/"
        },
        "id": "kF9A4C7LCDz8",
        "outputId": "ad0f6a6b-e12c-436b-9508-defa91017e5c"
      },
      "execution_count": null,
      "outputs": [
        {
          "output_type": "stream",
          "name": "stdout",
          "text": [
            "Lista de Resultados do Teste 1\n",
            "\n",
            "[1 0 0 1 0 0 0 1 0 1 1 1 1 0 0 1 1 0 1 0 1 0 0 1 1 0 1 0 0 1 0 0 1 1 1 0 0\n",
            " 0 0 0 0 1 0 0 0 0 1 0 0 0 0 0 0 1 1 0 0 0 1 0 1 1 0 0 0 0 0 0 1 0 0 0 1 0\n",
            " 0 0 0 1 1 0 0 0 0 0 0 0 1 0 0 0 0 0 1 0 1 0 1 1 0 0 1 1 0 0 0 1 0 1 0 0 0\n",
            " 0 1 0 1 1 1 0 1 0 1 1 1 0 1 0 0 1 1 0 0 0 0 0 0 0 0 1 1 0 1 0 0 0 0 0 1 0\n",
            " 0 1 0 0 0 1 0 0 1 0 0 0 0 1 0 0 1 0 0 0 0 0 1]\n",
            "\n",
            "Lista de Resultados do Teste 2\n",
            "\n",
            "[1 0 0 1 0 0 0 1 0 1 1 1 1 0 0 1 1 0 1 0 1 0 0 1 1 0 1 0 0 0 0 0 1 1 1 0 0\n",
            " 0 0 1 0 1 0 0 0 0 0 0 0 0 0 0 0 1 1 0 1 0 1 0 1 1 0 0 0 0 0 0 1 0 0 0 1 1\n",
            " 0 0 0 1 1 0 0 0 0 0 0 0 1 0 0 0 0 1 1 0 1 1 1 1 0 1 1 1 0 0 0 1 0 1 0 0 0\n",
            " 0 1 0 1 1 1 0 1 0 1 1 1 1 1 0 0 1 1 0 0 0 0 0 0 1 0 1 1 0 1 0 0 0 0 0 1 0\n",
            " 0 1 0 0 0 1 0 0 1 0 0 0 0 1 0 0 1 0 0 0 0 0 1]\n",
            "\n",
            "Lista de Resultados do Teste 3\n",
            "\n",
            "[1 0 0 1 0 0 1 1 0 1 1 1 0 0 1 1 1 0 1 0 1 0 0 1 1 0 1 0 0 0 0 0 1 1 1 0 0\n",
            " 0 0 1 0 1 0 0 0 0 0 0 0 0 1 0 0 0 1 0 1 0 1 0 1 1 1 0 0 0 0 0 1 0 1 0 1 1\n",
            " 0 0 0 1 1 0 0 0 0 0 1 0 1 1 0 0 0 1 1 0 1 1 1 0 0 1 1 1 0 0 0 1 1 1 0 0 0\n",
            " 0 1 0 1 1 1 0 1 0 1 1 1 1 0 0 0 1 1 0 0 0 0 0 0 1 0 1 1 1 1 0 0 0 0 0 1 0\n",
            " 0 1 0 0 0 1 0 0 1 0 0 0 0 0 0 0 1 0 0 1 0 0 1]\n",
            "\n",
            "Lista de Resultados do Teste 4\n",
            "\n",
            "[1 0 0 1 0 0 0 1 0 1 1 1 1 0 0 1 1 0 1 0 1 0 0 1 0 0 1 0 0 0 0 0 1 1 1 0 0\n",
            " 0 0 0 0 1 0 0 0 0 0 0 0 0 0 0 0 1 1 0 1 0 1 0 0 1 1 0 0 0 0 0 1 0 0 0 1 0\n",
            " 0 0 0 1 1 0 0 0 0 0 0 0 1 0 0 0 0 0 1 0 1 0 1 1 0 0 1 1 0 0 0 1 0 1 0 0 0\n",
            " 0 1 0 0 1 0 0 0 0 1 1 1 0 1 0 0 0 1 0 0 0 0 0 0 0 0 1 1 0 0 0 0 0 0 0 1 0\n",
            " 0 1 0 0 0 1 0 0 0 0 0 0 0 1 0 0 1 0 0 0 0 0 1]\n",
            "\n"
          ]
        }
      ]
    },
    {
      "cell_type": "markdown",
      "source": [
        "# XGBOOST"
      ],
      "metadata": {
        "id": "z_mW8FJyvnXP"
      }
    },
    {
      "cell_type": "code",
      "source": [
        "# Importando bibliotecas\n",
        "from sklearn.model_selection import GridSearchCV\n",
        "from xgboost.sklearn import XGBClassifier\n",
        "\n",
        "\n",
        "# Armazenando cada conjunto em uma array para fazer o loop\n",
        "subconjuntos_treinamento = [treino_um, treino_dois, treino_tres, treino_quatro]\n",
        "subconjuntos_saida = [saida_um, saida_dois, saida_tres, saida_quatro]\n",
        "\n",
        "# Parametros pra a busca em grade\n",
        "param_grid = {\n",
        "    'max_depth': [3, 5],\n",
        "    'learning_rate': [0.1, 0.05],\n",
        "    'n_estimators': [100, 200]\n",
        "}\n",
        "\n",
        "# Array para armazenar os resultados\n",
        "resultados = []\n",
        "\n",
        "for i in range(len(subconjuntos_treinamento)):\n",
        "    X_train = subconjuntos_treinamento[i]\n",
        "    y_train = subconjuntos_saida[i]\n",
        "\n",
        "    print(f\"Subconjunto {i+1}\")\n",
        "    # Realiza a busca pelos melhores parametros\n",
        "    # Cria o objeto do GridSearchCV para a busca em grade utilizando um classificador XGBoost\n",
        "    buscaGrade = GridSearchCV(XGBClassifier(), param_grid, cv=3)\n",
        "    buscaGrade.fit(X_train, y_train)\n",
        "\n",
        "    # Obtem os melhores parametros encontrados\n",
        "    melhorParam = buscaGrade.best_params_\n",
        "    melhorPont = buscaGrade.best_score_\n",
        "\n",
        "    # Treina o modelo com os melhores parametros encontrados\n",
        "    model = XGBClassifier(**melhorParam)\n",
        "    model.fit(X_train, y_train)\n",
        "\n",
        "    # Armazena o resultado\n",
        "    resultado = (melhorParam, melhorPont)\n",
        "    resultados.append(resultado)\n",
        "\n",
        "    # Exibindo resultados\n",
        "    print(\"Resultado para subconjunto de treinamento:\")\n",
        "    print(\"Melhores parâmetros encontrados:\", melhorParam)\n",
        "    print(\"Melhores pontuação encontrados:\", melhorPont)\n",
        "    print()\n"
      ],
      "metadata": {
        "colab": {
          "base_uri": "https://localhost:8080/"
        },
        "id": "9XD79qvHAtHR",
        "outputId": "1887dd85-2df0-4fb7-9d79-3937c46c3dad"
      },
      "execution_count": null,
      "outputs": [
        {
          "output_type": "stream",
          "name": "stdout",
          "text": [
            "Subconjunto 1\n",
            "Resultado para subconjunto de treinamento:\n",
            "Melhores parâmetros encontrados: {'learning_rate': 0.1, 'max_depth': 3, 'n_estimators': 100}\n",
            "Melhores pontuação encontrados: 0.9090909090909092\n",
            "\n",
            "Subconjunto 2\n",
            "Resultado para subconjunto de treinamento:\n",
            "Melhores parâmetros encontrados: {'learning_rate': 0.1, 'max_depth': 3, 'n_estimators': 100}\n",
            "Melhores pontuação encontrados: 0.9393939393939394\n",
            "\n",
            "Subconjunto 3\n",
            "Resultado para subconjunto de treinamento:\n",
            "Melhores parâmetros encontrados: {'learning_rate': 0.1, 'max_depth': 3, 'n_estimators': 100}\n",
            "Melhores pontuação encontrados: 0.8695781342840166\n",
            "\n",
            "Subconjunto 4\n",
            "Resultado para subconjunto de treinamento:\n",
            "Melhores parâmetros encontrados: {'learning_rate': 0.1, 'max_depth': 3, 'n_estimators': 100}\n",
            "Melhores pontuação encontrados: 0.9102792632204397\n",
            "\n"
          ]
        }
      ]
    },
    {
      "cell_type": "markdown",
      "source": [
        "# Testando XGBOOST"
      ],
      "metadata": {
        "id": "xKjC8ingvsAr"
      }
    },
    {
      "cell_type": "code",
      "source": [
        "# Importando bibliotecas\n",
        "from sklearn.metrics import accuracy_score, precision_score, recall_score, f1_score, confusion_matrix, classification_report\n",
        "\n",
        "# Criando subconjuntos para os testes\n",
        "subconjuntos_teste = [dadosEntrada_test, dadosEntrada_test, dadosEntrada_test, dadosEntrada_test]\n",
        "subconjuntos_saida_teste = [saidaDesejada_test, saidaDesejada_test, saidaDesejada_test, saidaDesejada_test]\n",
        "\n",
        "# Loop pelos subconjuntos de teste\n",
        "for i in range(len(subconjuntos_teste)):\n",
        "    X_test = subconjuntos_teste[i]\n",
        "    y_test = subconjuntos_saida_teste[i]\n",
        "\n",
        "    # Criar o classificador de arvore de decisao com os melhores parametros encontrados\n",
        "    classifier = XGBClassifier(**resultados[i][0])\n",
        "\n",
        "    # Treinar o classificador com o conjunto de treinamento correspondente\n",
        "    classifier.fit(subconjuntos_treinamento[i], subconjuntos_saida[i])\n",
        "\n",
        "    # Fazer previsoes no conjunto de teste\n",
        "    y_pred = classifier.predict(X_test)\n",
        "\n",
        "    # Calcular todas as metricas\n",
        "    accuracy = accuracy_score(saidaDesejada_test, y_pred)\n",
        "    precision = precision_score(saidaDesejada_test, y_pred)\n",
        "    recall = recall_score(saidaDesejada_test, y_pred)  # Calcula a recall\n",
        "    f1 = f1_score(saidaDesejada_test, y_pred)  # Calcula o F1 score\n",
        "\n",
        "    # Exibicao dos resultados\n",
        "    print(f\"Previsao para o subconjunto de teste {i+1}: {y_pred}\")\n",
        "    print(f\"Acuracia para subconjunto de teste {i+1}: {accuracy}\")\n",
        "    print(f\"Precisao para o subconjunto de teste {i+1}: {precision}\")\n",
        "    print(f\"Recall para subconjunto de teste {i+1}: {recall}\")\n",
        "    print(f\"F1 Score para subconjunto de teste {i+1}: {f1}\")\n",
        "    print(\"Matriz de Confusao:\")\n",
        "    print(classification_report(y_test, y_pred)) # plotando o relatório (de cima)\n",
        "    print()\n"
      ],
      "metadata": {
        "colab": {
          "base_uri": "https://localhost:8080/"
        },
        "id": "g139bHeWBWuu",
        "outputId": "52d69f97-e744-4613-eea3-f09b778be56b"
      },
      "execution_count": null,
      "outputs": [
        {
          "output_type": "stream",
          "name": "stdout",
          "text": [
            "Previsao para o subconjunto de teste 1: [0 0 0 1 0 0 0 1 0 1 1 1 1 0 0 1 1 0 1 0 1 0 0 1 0 0 1 0 0 0 0 0 1 1 1 0 0\n",
            " 0 0 0 0 1 0 0 0 0 0 0 0 0 0 0 0 1 1 0 0 0 1 0 1 1 0 0 0 0 0 0 1 0 0 0 1 0\n",
            " 0 0 0 1 1 0 0 0 0 0 0 0 1 0 0 0 0 0 1 0 1 0 1 1 0 0 1 1 0 0 0 1 0 1 0 0 0\n",
            " 0 1 0 0 1 0 0 0 0 1 1 1 0 1 0 0 0 1 0 0 0 0 0 0 0 0 1 1 0 1 0 0 0 0 0 1 0\n",
            " 0 1 0 0 0 1 0 0 1 0 0 0 0 1 0 0 1 0 0 0 0 0 1]\n",
            "Acuracia para subconjunto de teste 1: 0.9122807017543859\n",
            "Precisao para o subconjunto de teste 1: 0.9607843137254902\n",
            "Recall para subconjunto de teste 1: 0.7903225806451613\n",
            "F1 Score para subconjunto de teste 1: 0.8672566371681416\n",
            "Matriz de Confusao:\n",
            "              precision    recall  f1-score   support\n",
            "\n",
            "           0       0.89      0.98      0.93       109\n",
            "           1       0.96      0.79      0.87        62\n",
            "\n",
            "    accuracy                           0.91       171\n",
            "   macro avg       0.93      0.89      0.90       171\n",
            "weighted avg       0.92      0.91      0.91       171\n",
            "\n",
            "\n",
            "Previsao para o subconjunto de teste 2: [1 0 0 1 0 0 0 1 0 1 1 1 1 0 0 1 1 0 1 0 1 0 0 1 0 0 1 0 0 0 0 0 1 1 1 0 0\n",
            " 0 0 1 0 1 0 0 0 0 0 0 0 0 0 0 0 1 1 0 1 0 1 0 0 1 0 0 0 0 0 0 1 0 0 0 1 1\n",
            " 0 0 0 1 1 0 0 0 0 0 0 0 1 0 0 0 0 1 1 0 1 0 1 1 0 1 1 1 0 0 0 1 0 1 0 0 0\n",
            " 0 1 0 0 1 0 0 0 0 1 1 1 1 1 0 0 1 1 0 0 0 0 0 0 0 0 1 1 0 1 0 0 0 0 0 1 0\n",
            " 0 1 0 0 0 1 0 0 1 0 0 0 0 1 0 0 1 0 0 0 0 0 1]\n",
            "Acuracia para subconjunto de teste 2: 0.9298245614035088\n",
            "Precisao para o subconjunto de teste 2: 0.9310344827586207\n",
            "Recall para subconjunto de teste 2: 0.8709677419354839\n",
            "F1 Score para subconjunto de teste 2: 0.9\n",
            "Matriz de Confusao:\n",
            "              precision    recall  f1-score   support\n",
            "\n",
            "           0       0.93      0.96      0.95       109\n",
            "           1       0.93      0.87      0.90        62\n",
            "\n",
            "    accuracy                           0.93       171\n",
            "   macro avg       0.93      0.92      0.92       171\n",
            "weighted avg       0.93      0.93      0.93       171\n",
            "\n",
            "\n",
            "Previsao para o subconjunto de teste 3: [1 0 0 1 0 0 1 1 0 1 1 1 1 0 0 1 1 0 1 0 1 0 0 1 1 0 1 0 0 0 0 0 1 1 1 0 0\n",
            " 0 0 1 0 1 0 0 0 0 0 0 0 0 0 0 0 1 1 0 1 0 1 0 0 1 1 0 0 0 0 0 1 0 0 0 1 1\n",
            " 0 0 0 1 1 0 0 0 0 0 0 0 1 1 0 0 0 1 1 0 1 0 1 1 0 1 1 1 0 0 0 1 0 1 0 0 0\n",
            " 0 1 0 1 1 1 0 0 0 1 1 1 0 1 0 0 0 1 0 0 0 0 0 0 1 0 1 1 1 1 0 0 0 0 0 1 0\n",
            " 0 1 0 0 0 1 0 0 1 0 0 0 0 0 0 0 1 0 0 0 0 0 1]\n",
            "Acuracia para subconjunto de teste 3: 0.9239766081871345\n",
            "Precisao para o subconjunto de teste 3: 0.8888888888888888\n",
            "Recall para subconjunto de teste 3: 0.9032258064516129\n",
            "F1 Score para subconjunto de teste 3: 0.8959999999999999\n",
            "Matriz de Confusao:\n",
            "              precision    recall  f1-score   support\n",
            "\n",
            "           0       0.94      0.94      0.94       109\n",
            "           1       0.89      0.90      0.90        62\n",
            "\n",
            "    accuracy                           0.92       171\n",
            "   macro avg       0.92      0.92      0.92       171\n",
            "weighted avg       0.92      0.92      0.92       171\n",
            "\n",
            "\n",
            "Previsao para o subconjunto de teste 4: [1 0 0 1 0 0 0 1 0 1 1 1 1 0 0 1 1 0 1 0 1 0 0 1 0 0 1 0 0 0 0 0 1 1 1 0 0\n",
            " 0 0 0 0 1 0 0 0 0 0 0 0 0 0 0 0 1 1 0 1 0 1 0 0 1 0 0 0 0 0 0 1 0 0 0 1 0\n",
            " 0 0 0 1 1 0 0 0 0 0 0 0 1 0 0 0 0 0 1 0 1 0 1 1 0 0 1 1 0 0 0 1 0 1 0 0 0\n",
            " 0 1 0 0 1 0 0 0 0 1 1 1 0 1 0 0 0 1 0 0 0 0 0 0 0 0 1 1 0 0 0 0 0 0 0 1 0\n",
            " 0 1 0 0 0 1 0 0 1 0 0 0 0 1 0 0 1 0 0 0 0 0 1]\n",
            "Acuracia para subconjunto de teste 4: 0.9239766081871345\n",
            "Precisao para o subconjunto de teste 4: 0.9803921568627451\n",
            "Recall para subconjunto de teste 4: 0.8064516129032258\n",
            "F1 Score para subconjunto de teste 4: 0.8849557522123893\n",
            "Matriz de Confusao:\n",
            "              precision    recall  f1-score   support\n",
            "\n",
            "           0       0.90      0.99      0.94       109\n",
            "           1       0.98      0.81      0.88        62\n",
            "\n",
            "    accuracy                           0.92       171\n",
            "   macro avg       0.94      0.90      0.91       171\n",
            "weighted avg       0.93      0.92      0.92       171\n",
            "\n",
            "\n"
          ]
        }
      ]
    }
  ]
}