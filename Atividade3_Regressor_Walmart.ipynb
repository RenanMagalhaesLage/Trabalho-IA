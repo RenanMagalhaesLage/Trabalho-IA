{
  "nbformat": 4,
  "nbformat_minor": 0,
  "metadata": {
    "colab": {
      "provenance": []
    },
    "kernelspec": {
      "name": "python3",
      "display_name": "Python 3"
    },
    "language_info": {
      "name": "python"
    }
  },
  "cells": [
    {
      "cell_type": "markdown",
      "source": [
        "UNIVERSIDADE FEDERAL DE ALFENAS\n",
        "> TRABALHO DE INTELIGENCIA ARTIFICIAL\n",
        "\n",
        "\n",
        "> Componentes:\n",
        "\n",
        "*   Bárbara Silveira Rodrigues - 2021.1.08.042\n",
        "*   Renan Magalhães Lage - 2021.1.08.020"
      ],
      "metadata": {
        "id": "TEfBoar8Irth"
      }
    },
    {
      "cell_type": "code",
      "source": [
        "#Configurando o drive\n",
        "from google.colab import drive\n",
        "drive.mount('/content/drive')"
      ],
      "metadata": {
        "colab": {
          "base_uri": "https://localhost:8080/"
        },
        "id": "isaH7J5-p5FK",
        "outputId": "2984927a-eaa6-4ef3-a827-86bb903c9fd9"
      },
      "execution_count": null,
      "outputs": [
        {
          "output_type": "stream",
          "name": "stdout",
          "text": [
            "Drive already mounted at /content/drive; to attempt to forcibly remount, call drive.mount(\"/content/drive\", force_remount=True).\n"
          ]
        }
      ]
    },
    {
      "cell_type": "code",
      "source": [
        "#Obtendo os dados do arquivo\n",
        "from sklearn.preprocessing import LabelEncoder\n",
        "from sklearn.model_selection import train_test_split\n",
        "import pandas as pd\n",
        "import matplotlib.pyplot as plt\n",
        "import datetime\n",
        "import seaborn as sns\n",
        "import numpy as np\n",
        "import sklearn\n",
        "sns.set()\n",
        "url_dataset= \"/content/drive/MyDrive/IA/Walmart.csv\"\n",
        "data = pd.read_csv(url_dataset)\n",
        "data.head()"
      ],
      "metadata": {
        "colab": {
          "base_uri": "https://localhost:8080/",
          "height": 206
        },
        "id": "ExQLOhnVwSLH",
        "outputId": "1effd6b8-e7f5-41d0-82f2-b23a798627a5"
      },
      "execution_count": null,
      "outputs": [
        {
          "output_type": "execute_result",
          "data": {
            "text/plain": [
              "   Store        Date  Weekly_Sales  Holiday_Flag  Temperature  Fuel_Price  \\\n",
              "0      1  05-02-2010    1643690.90             0        42.31       2.572   \n",
              "1      1  12-02-2010    1641957.44             1        38.51       2.548   \n",
              "2      1  19-02-2010    1611968.17             0        39.93       2.514   \n",
              "3      1  26-02-2010    1409727.59             0        46.63       2.561   \n",
              "4      1  05-03-2010    1554806.68             0        46.50       2.625   \n",
              "\n",
              "          CPI  Unemployment  \n",
              "0  211.096358         8.106  \n",
              "1  211.242170         8.106  \n",
              "2  211.289143         8.106  \n",
              "3  211.319643         8.106  \n",
              "4  211.350143         8.106  "
            ],
            "text/html": [
              "\n",
              "\n",
              "  <div id=\"df-c97205af-3c2f-4447-a469-4cc3d5de69f0\">\n",
              "    <div class=\"colab-df-container\">\n",
              "      <div>\n",
              "<style scoped>\n",
              "    .dataframe tbody tr th:only-of-type {\n",
              "        vertical-align: middle;\n",
              "    }\n",
              "\n",
              "    .dataframe tbody tr th {\n",
              "        vertical-align: top;\n",
              "    }\n",
              "\n",
              "    .dataframe thead th {\n",
              "        text-align: right;\n",
              "    }\n",
              "</style>\n",
              "<table border=\"1\" class=\"dataframe\">\n",
              "  <thead>\n",
              "    <tr style=\"text-align: right;\">\n",
              "      <th></th>\n",
              "      <th>Store</th>\n",
              "      <th>Date</th>\n",
              "      <th>Weekly_Sales</th>\n",
              "      <th>Holiday_Flag</th>\n",
              "      <th>Temperature</th>\n",
              "      <th>Fuel_Price</th>\n",
              "      <th>CPI</th>\n",
              "      <th>Unemployment</th>\n",
              "    </tr>\n",
              "  </thead>\n",
              "  <tbody>\n",
              "    <tr>\n",
              "      <th>0</th>\n",
              "      <td>1</td>\n",
              "      <td>05-02-2010</td>\n",
              "      <td>1643690.90</td>\n",
              "      <td>0</td>\n",
              "      <td>42.31</td>\n",
              "      <td>2.572</td>\n",
              "      <td>211.096358</td>\n",
              "      <td>8.106</td>\n",
              "    </tr>\n",
              "    <tr>\n",
              "      <th>1</th>\n",
              "      <td>1</td>\n",
              "      <td>12-02-2010</td>\n",
              "      <td>1641957.44</td>\n",
              "      <td>1</td>\n",
              "      <td>38.51</td>\n",
              "      <td>2.548</td>\n",
              "      <td>211.242170</td>\n",
              "      <td>8.106</td>\n",
              "    </tr>\n",
              "    <tr>\n",
              "      <th>2</th>\n",
              "      <td>1</td>\n",
              "      <td>19-02-2010</td>\n",
              "      <td>1611968.17</td>\n",
              "      <td>0</td>\n",
              "      <td>39.93</td>\n",
              "      <td>2.514</td>\n",
              "      <td>211.289143</td>\n",
              "      <td>8.106</td>\n",
              "    </tr>\n",
              "    <tr>\n",
              "      <th>3</th>\n",
              "      <td>1</td>\n",
              "      <td>26-02-2010</td>\n",
              "      <td>1409727.59</td>\n",
              "      <td>0</td>\n",
              "      <td>46.63</td>\n",
              "      <td>2.561</td>\n",
              "      <td>211.319643</td>\n",
              "      <td>8.106</td>\n",
              "    </tr>\n",
              "    <tr>\n",
              "      <th>4</th>\n",
              "      <td>1</td>\n",
              "      <td>05-03-2010</td>\n",
              "      <td>1554806.68</td>\n",
              "      <td>0</td>\n",
              "      <td>46.50</td>\n",
              "      <td>2.625</td>\n",
              "      <td>211.350143</td>\n",
              "      <td>8.106</td>\n",
              "    </tr>\n",
              "  </tbody>\n",
              "</table>\n",
              "</div>\n",
              "      <button class=\"colab-df-convert\" onclick=\"convertToInteractive('df-c97205af-3c2f-4447-a469-4cc3d5de69f0')\"\n",
              "              title=\"Convert this dataframe to an interactive table.\"\n",
              "              style=\"display:none;\">\n",
              "\n",
              "  <svg xmlns=\"http://www.w3.org/2000/svg\" height=\"24px\"viewBox=\"0 0 24 24\"\n",
              "       width=\"24px\">\n",
              "    <path d=\"M0 0h24v24H0V0z\" fill=\"none\"/>\n",
              "    <path d=\"M18.56 5.44l.94 2.06.94-2.06 2.06-.94-2.06-.94-.94-2.06-.94 2.06-2.06.94zm-11 1L8.5 8.5l.94-2.06 2.06-.94-2.06-.94L8.5 2.5l-.94 2.06-2.06.94zm10 10l.94 2.06.94-2.06 2.06-.94-2.06-.94-.94-2.06-.94 2.06-2.06.94z\"/><path d=\"M17.41 7.96l-1.37-1.37c-.4-.4-.92-.59-1.43-.59-.52 0-1.04.2-1.43.59L10.3 9.45l-7.72 7.72c-.78.78-.78 2.05 0 2.83L4 21.41c.39.39.9.59 1.41.59.51 0 1.02-.2 1.41-.59l7.78-7.78 2.81-2.81c.8-.78.8-2.07 0-2.86zM5.41 20L4 18.59l7.72-7.72 1.47 1.35L5.41 20z\"/>\n",
              "  </svg>\n",
              "      </button>\n",
              "\n",
              "\n",
              "\n",
              "    <div id=\"df-fc5d4cbb-a229-476c-98cd-e48bf2cb9448\">\n",
              "      <button class=\"colab-df-quickchart\" onclick=\"quickchart('df-fc5d4cbb-a229-476c-98cd-e48bf2cb9448')\"\n",
              "              title=\"Suggest charts.\"\n",
              "              style=\"display:none;\">\n",
              "\n",
              "<svg xmlns=\"http://www.w3.org/2000/svg\" height=\"24px\"viewBox=\"0 0 24 24\"\n",
              "     width=\"24px\">\n",
              "    <g>\n",
              "        <path d=\"M19 3H5c-1.1 0-2 .9-2 2v14c0 1.1.9 2 2 2h14c1.1 0 2-.9 2-2V5c0-1.1-.9-2-2-2zM9 17H7v-7h2v7zm4 0h-2V7h2v10zm4 0h-2v-4h2v4z\"/>\n",
              "    </g>\n",
              "</svg>\n",
              "      </button>\n",
              "    </div>\n",
              "\n",
              "<style>\n",
              "  .colab-df-quickchart {\n",
              "    background-color: #E8F0FE;\n",
              "    border: none;\n",
              "    border-radius: 50%;\n",
              "    cursor: pointer;\n",
              "    display: none;\n",
              "    fill: #1967D2;\n",
              "    height: 32px;\n",
              "    padding: 0 0 0 0;\n",
              "    width: 32px;\n",
              "  }\n",
              "\n",
              "  .colab-df-quickchart:hover {\n",
              "    background-color: #E2EBFA;\n",
              "    box-shadow: 0px 1px 2px rgba(60, 64, 67, 0.3), 0px 1px 3px 1px rgba(60, 64, 67, 0.15);\n",
              "    fill: #174EA6;\n",
              "  }\n",
              "\n",
              "  [theme=dark] .colab-df-quickchart {\n",
              "    background-color: #3B4455;\n",
              "    fill: #D2E3FC;\n",
              "  }\n",
              "\n",
              "  [theme=dark] .colab-df-quickchart:hover {\n",
              "    background-color: #434B5C;\n",
              "    box-shadow: 0px 1px 3px 1px rgba(0, 0, 0, 0.15);\n",
              "    filter: drop-shadow(0px 1px 2px rgba(0, 0, 0, 0.3));\n",
              "    fill: #FFFFFF;\n",
              "  }\n",
              "</style>\n",
              "\n",
              "    <script>\n",
              "      async function quickchart(key) {\n",
              "        const containerElement = document.querySelector('#' + key);\n",
              "        const charts = await google.colab.kernel.invokeFunction(\n",
              "            'suggestCharts', [key], {});\n",
              "      }\n",
              "    </script>\n",
              "\n",
              "      <script>\n",
              "\n",
              "function displayQuickchartButton(domScope) {\n",
              "  let quickchartButtonEl =\n",
              "    domScope.querySelector('#df-fc5d4cbb-a229-476c-98cd-e48bf2cb9448 button.colab-df-quickchart');\n",
              "  quickchartButtonEl.style.display =\n",
              "    google.colab.kernel.accessAllowed ? 'block' : 'none';\n",
              "}\n",
              "\n",
              "        displayQuickchartButton(document);\n",
              "      </script>\n",
              "      <style>\n",
              "    .colab-df-container {\n",
              "      display:flex;\n",
              "      flex-wrap:wrap;\n",
              "      gap: 12px;\n",
              "    }\n",
              "\n",
              "    .colab-df-convert {\n",
              "      background-color: #E8F0FE;\n",
              "      border: none;\n",
              "      border-radius: 50%;\n",
              "      cursor: pointer;\n",
              "      display: none;\n",
              "      fill: #1967D2;\n",
              "      height: 32px;\n",
              "      padding: 0 0 0 0;\n",
              "      width: 32px;\n",
              "    }\n",
              "\n",
              "    .colab-df-convert:hover {\n",
              "      background-color: #E2EBFA;\n",
              "      box-shadow: 0px 1px 2px rgba(60, 64, 67, 0.3), 0px 1px 3px 1px rgba(60, 64, 67, 0.15);\n",
              "      fill: #174EA6;\n",
              "    }\n",
              "\n",
              "    [theme=dark] .colab-df-convert {\n",
              "      background-color: #3B4455;\n",
              "      fill: #D2E3FC;\n",
              "    }\n",
              "\n",
              "    [theme=dark] .colab-df-convert:hover {\n",
              "      background-color: #434B5C;\n",
              "      box-shadow: 0px 1px 3px 1px rgba(0, 0, 0, 0.15);\n",
              "      filter: drop-shadow(0px 1px 2px rgba(0, 0, 0, 0.3));\n",
              "      fill: #FFFFFF;\n",
              "    }\n",
              "  </style>\n",
              "\n",
              "      <script>\n",
              "        const buttonEl =\n",
              "          document.querySelector('#df-c97205af-3c2f-4447-a469-4cc3d5de69f0 button.colab-df-convert');\n",
              "        buttonEl.style.display =\n",
              "          google.colab.kernel.accessAllowed ? 'block' : 'none';\n",
              "\n",
              "        async function convertToInteractive(key) {\n",
              "          const element = document.querySelector('#df-c97205af-3c2f-4447-a469-4cc3d5de69f0');\n",
              "          const dataTable =\n",
              "            await google.colab.kernel.invokeFunction('convertToInteractive',\n",
              "                                                     [key], {});\n",
              "          if (!dataTable) return;\n",
              "\n",
              "          const docLinkHtml = 'Like what you see? Visit the ' +\n",
              "            '<a target=\"_blank\" href=https://colab.research.google.com/notebooks/data_table.ipynb>data table notebook</a>'\n",
              "            + ' to learn more about interactive tables.';\n",
              "          element.innerHTML = '';\n",
              "          dataTable['output_type'] = 'display_data';\n",
              "          await google.colab.output.renderOutput(dataTable, element);\n",
              "          const docLink = document.createElement('div');\n",
              "          docLink.innerHTML = docLinkHtml;\n",
              "          element.appendChild(docLink);\n",
              "        }\n",
              "      </script>\n",
              "    </div>\n",
              "  </div>\n"
            ]
          },
          "metadata": {},
          "execution_count": 113
        }
      ]
    },
    {
      "cell_type": "code",
      "source": [
        "data.info()"
      ],
      "metadata": {
        "colab": {
          "base_uri": "https://localhost:8080/"
        },
        "id": "mMJoDUVzwsqI",
        "outputId": "d57c9663-202f-4efd-cbd9-8a3b7f7e7606"
      },
      "execution_count": null,
      "outputs": [
        {
          "output_type": "stream",
          "name": "stdout",
          "text": [
            "<class 'pandas.core.frame.DataFrame'>\n",
            "RangeIndex: 6435 entries, 0 to 6434\n",
            "Data columns (total 8 columns):\n",
            " #   Column        Non-Null Count  Dtype  \n",
            "---  ------        --------------  -----  \n",
            " 0   Store         6435 non-null   int64  \n",
            " 1   Date          6435 non-null   object \n",
            " 2   Weekly_Sales  6435 non-null   float64\n",
            " 3   Holiday_Flag  6435 non-null   int64  \n",
            " 4   Temperature   6435 non-null   float64\n",
            " 5   Fuel_Price    6435 non-null   float64\n",
            " 6   CPI           6435 non-null   float64\n",
            " 7   Unemployment  6435 non-null   float64\n",
            "dtypes: float64(5), int64(2), object(1)\n",
            "memory usage: 402.3+ KB\n"
          ]
        }
      ]
    },
    {
      "cell_type": "code",
      "source": [
        "#Transformando os dados\n",
        "data['Date'] = pd.to_datetime(data['Date'])\n",
        "#Gerando um gráfico Vendas Semanais sobre o tempo\n",
        "plt.figure(figsize=(20,5))\n",
        "\n",
        "sns.lineplot(x=data.Date, y=(data.Weekly_Sales/1e6))\n",
        "\n",
        "plt.xlabel('Months')\n",
        "plt.ylabel('Weekly Sales (in million USD)')\n",
        "plt.title('Weekly Sales Trend', fontdict={'fontsize': 17, 'color':'red'}, pad=20)\n",
        "\n",
        "plt.show()"
      ],
      "metadata": {
        "colab": {
          "base_uri": "https://localhost:8080/",
          "height": 555
        },
        "id": "HDpkTKHDqTHi",
        "outputId": "d90e6699-412e-4741-ca16-0f844c046d4b"
      },
      "execution_count": null,
      "outputs": [
        {
          "output_type": "stream",
          "name": "stderr",
          "text": [
            "<ipython-input-115-ffb665d77e39>:2: UserWarning: Parsing dates in DD/MM/YYYY format when dayfirst=False (the default) was specified. This may lead to inconsistently parsed dates! Specify a format to ensure consistent parsing.\n",
            "  data['Date'] = pd.to_datetime(data['Date'])\n"
          ]
        },
        {
          "output_type": "display_data",
          "data": {
            "text/plain": [
              "<Figure size 2000x500 with 1 Axes>"
            ],
            "image/png": "[encoded data removed]"
          },
          "metadata": {}
        }
      ]
    },
    {
      "cell_type": "code",
      "source": [
        "data['Day'] = data['Date'].dt.weekday\n",
        "data['Week'] = data['Date'].dt.week\n",
        "data['Month'] = data['Date'].dt.month\n",
        "data['Year']  = data['Date'].dt.year\n",
        "data.drop('Date',axis=1,inplace=True)\n",
        "data.head()"
      ],
      "metadata": {
        "colab": {
          "base_uri": "https://localhost:8080/",
          "height": 241
        },
        "id": "hfztNOX64GUB",
        "outputId": "53a133a6-b789-45c3-e343-8cb25d1a0850"
      },
      "execution_count": null,
      "outputs": [
        {
          "output_type": "stream",
          "name": "stderr",
          "text": [
            "<ipython-input-116-e0dfb6fb85b3>:2: FutureWarning: Series.dt.weekofyear and Series.dt.week have been deprecated. Please use Series.dt.isocalendar().week instead.\n",
            "  data['Week'] = data['Date'].dt.week\n"
          ]
        },
        {
          "output_type": "execute_result",
          "data": {
            "text/plain": [
              "   Store  Weekly_Sales  Holiday_Flag  Temperature  Fuel_Price         CPI  \\\n",
              "0      1    1643690.90             0        42.31       2.572  211.096358   \n",
              "1      1    1641957.44             1        38.51       2.548  211.242170   \n",
              "2      1    1611968.17             0        39.93       2.514  211.289143   \n",
              "3      1    1409727.59             0        46.63       2.561  211.319643   \n",
              "4      1    1554806.68             0        46.50       2.625  211.350143   \n",
              "\n",
              "   Unemployment  Day  Week  Month  Year  \n",
              "0         8.106    6    17      5  2010  \n",
              "1         8.106    3    48     12  2010  \n",
              "2         8.106    4     7      2  2010  \n",
              "3         8.106    4     8      2  2010  \n",
              "4         8.106    0    18      5  2010  "
            ],
            "text/html": [
              "\n",
              "\n",
              "  <div id=\"df-b1b73af8-8137-4c73-85b3-5aba821ecd0f\">\n",
              "    <div class=\"colab-df-container\">\n",
              "      <div>\n",
              "<style scoped>\n",
              "    .dataframe tbody tr th:only-of-type {\n",
              "        vertical-align: middle;\n",
              "    }\n",
              "\n",
              "    .dataframe tbody tr th {\n",
              "        vertical-align: top;\n",
              "    }\n",
              "\n",
              "    .dataframe thead th {\n",
              "        text-align: right;\n",
              "    }\n",
              "</style>\n",
              "<table border=\"1\" class=\"dataframe\">\n",
              "  <thead>\n",
              "    <tr style=\"text-align: right;\">\n",
              "      <th></th>\n",
              "      <th>Store</th>\n",
              "      <th>Weekly_Sales</th>\n",
              "      <th>Holiday_Flag</th>\n",
              "      <th>Temperature</th>\n",
              "      <th>Fuel_Price</th>\n",
              "      <th>CPI</th>\n",
              "      <th>Unemployment</th>\n",
              "      <th>Day</th>\n",
              "      <th>Week</th>\n",
              "      <th>Month</th>\n",
              "      <th>Year</th>\n",
              "    </tr>\n",
              "  </thead>\n",
              "  <tbody>\n",
              "    <tr>\n",
              "      <th>0</th>\n",
              "      <td>1</td>\n",
              "      <td>1643690.90</td>\n",
              "      <td>0</td>\n",
              "      <td>42.31</td>\n",
              "      <td>2.572</td>\n",
              "      <td>211.096358</td>\n",
              "      <td>8.106</td>\n",
              "      <td>6</td>\n",
              "      <td>17</td>\n",
              "      <td>5</td>\n",
              "      <td>2010</td>\n",
              "    </tr>\n",
              "    <tr>\n",
              "      <th>1</th>\n",
              "      <td>1</td>\n",
              "      <td>1641957.44</td>\n",
              "      <td>1</td>\n",
              "      <td>38.51</td>\n",
              "      <td>2.548</td>\n",
              "      <td>211.242170</td>\n",
              "      <td>8.106</td>\n",
              "      <td>3</td>\n",
              "      <td>48</td>\n",
              "      <td>12</td>\n",
              "      <td>2010</td>\n",
              "    </tr>\n",
              "    <tr>\n",
              "      <th>2</th>\n",
              "      <td>1</td>\n",
              "      <td>1611968.17</td>\n",
              "      <td>0</td>\n",
              "      <td>39.93</td>\n",
              "      <td>2.514</td>\n",
              "      <td>211.289143</td>\n",
              "      <td>8.106</td>\n",
              "      <td>4</td>\n",
              "      <td>7</td>\n",
              "      <td>2</td>\n",
              "      <td>2010</td>\n",
              "    </tr>\n",
              "    <tr>\n",
              "      <th>3</th>\n",
              "      <td>1</td>\n",
              "      <td>1409727.59</td>\n",
              "      <td>0</td>\n",
              "      <td>46.63</td>\n",
              "      <td>2.561</td>\n",
              "      <td>211.319643</td>\n",
              "      <td>8.106</td>\n",
              "      <td>4</td>\n",
              "      <td>8</td>\n",
              "      <td>2</td>\n",
              "      <td>2010</td>\n",
              "    </tr>\n",
              "    <tr>\n",
              "      <th>4</th>\n",
              "      <td>1</td>\n",
              "      <td>1554806.68</td>\n",
              "      <td>0</td>\n",
              "      <td>46.50</td>\n",
              "      <td>2.625</td>\n",
              "      <td>211.350143</td>\n",
              "      <td>8.106</td>\n",
              "      <td>0</td>\n",
              "      <td>18</td>\n",
              "      <td>5</td>\n",
              "      <td>2010</td>\n",
              "    </tr>\n",
              "  </tbody>\n",
              "</table>\n",
              "</div>\n",
              "      <button class=\"colab-df-convert\" onclick=\"convertToInteractive('df-b1b73af8-8137-4c73-85b3-5aba821ecd0f')\"\n",
              "              title=\"Convert this dataframe to an interactive table.\"\n",
              "              style=\"display:none;\">\n",
              "\n",
              "  <svg xmlns=\"http://www.w3.org/2000/svg\" height=\"24px\"viewBox=\"0 0 24 24\"\n",
              "       width=\"24px\">\n",
              "    <path d=\"M0 0h24v24H0V0z\" fill=\"none\"/>\n",
              "    <path d=\"M18.56 5.44l.94 2.06.94-2.06 2.06-.94-2.06-.94-.94-2.06-.94 2.06-2.06.94zm-11 1L8.5 8.5l.94-2.06 2.06-.94-2.06-.94L8.5 2.5l-.94 2.06-2.06.94zm10 10l.94 2.06.94-2.06 2.06-.94-2.06-.94-.94-2.06-.94 2.06-2.06.94z\"/><path d=\"M17.41 7.96l-1.37-1.37c-.4-.4-.92-.59-1.43-.59-.52 0-1.04.2-1.43.59L10.3 9.45l-7.72 7.72c-.78.78-.78 2.05 0 2.83L4 21.41c.39.39.9.59 1.41.59.51 0 1.02-.2 1.41-.59l7.78-7.78 2.81-2.81c.8-.78.8-2.07 0-2.86zM5.41 20L4 18.59l7.72-7.72 1.47 1.35L5.41 20z\"/>\n",
              "  </svg>\n",
              "      </button>\n",
              "\n",
              "\n",
              "\n",
              "    <div id=\"df-2a7108f6-bd3d-4cc7-8545-cf801d73d821\">\n",
              "      <button class=\"colab-df-quickchart\" onclick=\"quickchart('df-2a7108f6-bd3d-4cc7-8545-cf801d73d821')\"\n",
              "              title=\"Suggest charts.\"\n",
              "              style=\"display:none;\">\n",
              "\n",
              "<svg xmlns=\"http://www.w3.org/2000/svg\" height=\"24px\"viewBox=\"0 0 24 24\"\n",
              "     width=\"24px\">\n",
              "    <g>\n",
              "        <path d=\"M19 3H5c-1.1 0-2 .9-2 2v14c0 1.1.9 2 2 2h14c1.1 0 2-.9 2-2V5c0-1.1-.9-2-2-2zM9 17H7v-7h2v7zm4 0h-2V7h2v10zm4 0h-2v-4h2v4z\"/>\n",
              "    </g>\n",
              "</svg>\n",
              "      </button>\n",
              "    </div>\n",
              "\n",
              "<style>\n",
              "  .colab-df-quickchart {\n",
              "    background-color: #E8F0FE;\n",
              "    border: none;\n",
              "    border-radius: 50%;\n",
              "    cursor: pointer;\n",
              "    display: none;\n",
              "    fill: #1967D2;\n",
              "    height: 32px;\n",
              "    padding: 0 0 0 0;\n",
              "    width: 32px;\n",
              "  }\n",
              "\n",
              "  .colab-df-quickchart:hover {\n",
              "    background-color: #E2EBFA;\n",
              "    box-shadow: 0px 1px 2px rgba(60, 64, 67, 0.3), 0px 1px 3px 1px rgba(60, 64, 67, 0.15);\n",
              "    fill: #174EA6;\n",
              "  }\n",
              "\n",
              "  [theme=dark] .colab-df-quickchart {\n",
              "    background-color: #3B4455;\n",
              "    fill: #D2E3FC;\n",
              "  }\n",
              "\n",
              "  [theme=dark] .colab-df-quickchart:hover {\n",
              "    background-color: #434B5C;\n",
              "    box-shadow: 0px 1px 3px 1px rgba(0, 0, 0, 0.15);\n",
              "    filter: drop-shadow(0px 1px 2px rgba(0, 0, 0, 0.3));\n",
              "    fill: #FFFFFF;\n",
              "  }\n",
              "</style>\n",
              "\n",
              "    <script>\n",
              "      async function quickchart(key) {\n",
              "        const containerElement = document.querySelector('#' + key);\n",
              "        const charts = await google.colab.kernel.invokeFunction(\n",
              "            'suggestCharts', [key], {});\n",
              "      }\n",
              "    </script>\n",
              "\n",
              "      <script>\n",
              "\n",
              "function displayQuickchartButton(domScope) {\n",
              "  let quickchartButtonEl =\n",
              "    domScope.querySelector('#df-2a7108f6-bd3d-4cc7-8545-cf801d73d821 button.colab-df-quickchart');\n",
              "  quickchartButtonEl.style.display =\n",
              "    google.colab.kernel.accessAllowed ? 'block' : 'none';\n",
              "}\n",
              "\n",
              "        displayQuickchartButton(document);\n",
              "      </script>\n",
              "      <style>\n",
              "    .colab-df-container {\n",
              "      display:flex;\n",
              "      flex-wrap:wrap;\n",
              "      gap: 12px;\n",
              "    }\n",
              "\n",
              "    .colab-df-convert {\n",
              "      background-color: #E8F0FE;\n",
              "      border: none;\n",
              "      border-radius: 50%;\n",
              "      cursor: pointer;\n",
              "      display: none;\n",
              "      fill: #1967D2;\n",
              "      height: 32px;\n",
              "      padding: 0 0 0 0;\n",
              "      width: 32px;\n",
              "    }\n",
              "\n",
              "    .colab-df-convert:hover {\n",
              "      background-color: #E2EBFA;\n",
              "      box-shadow: 0px 1px 2px rgba(60, 64, 67, 0.3), 0px 1px 3px 1px rgba(60, 64, 67, 0.15);\n",
              "      fill: #174EA6;\n",
              "    }\n",
              "\n",
              "    [theme=dark] .colab-df-convert {\n",
              "      background-color: #3B4455;\n",
              "      fill: #D2E3FC;\n",
              "    }\n",
              "\n",
              "    [theme=dark] .colab-df-convert:hover {\n",
              "      background-color: #434B5C;\n",
              "      box-shadow: 0px 1px 3px 1px rgba(0, 0, 0, 0.15);\n",
              "      filter: drop-shadow(0px 1px 2px rgba(0, 0, 0, 0.3));\n",
              "      fill: #FFFFFF;\n",
              "    }\n",
              "  </style>\n",
              "\n",
              "      <script>\n",
              "        const buttonEl =\n",
              "          document.querySelector('#df-b1b73af8-8137-4c73-85b3-5aba821ecd0f button.colab-df-convert');\n",
              "        buttonEl.style.display =\n",
              "          google.colab.kernel.accessAllowed ? 'block' : 'none';\n",
              "\n",
              "        async function convertToInteractive(key) {\n",
              "          const element = document.querySelector('#df-b1b73af8-8137-4c73-85b3-5aba821ecd0f');\n",
              "          const dataTable =\n",
              "            await google.colab.kernel.invokeFunction('convertToInteractive',\n",
              "                                                     [key], {});\n",
              "          if (!dataTable) return;\n",
              "\n",
              "          const docLinkHtml = 'Like what you see? Visit the ' +\n",
              "            '<a target=\"_blank\" href=https://colab.research.google.com/notebooks/data_table.ipynb>data table notebook</a>'\n",
              "            + ' to learn more about interactive tables.';\n",
              "          element.innerHTML = '';\n",
              "          dataTable['output_type'] = 'display_data';\n",
              "          await google.colab.output.renderOutput(dataTable, element);\n",
              "          const docLink = document.createElement('div');\n",
              "          docLink.innerHTML = docLinkHtml;\n",
              "          element.appendChild(docLink);\n",
              "        }\n",
              "      </script>\n",
              "    </div>\n",
              "  </div>\n"
            ]
          },
          "metadata": {},
          "execution_count": 116
        }
      ]
    },
    {
      "cell_type": "code",
      "source": [
        "# Exibindo  dimensao da base de dados\n",
        "print(\"Dimensão dos dados:\")\n",
        "print(\"Linhas (Instâncias):{}\".format(data.shape[0]))\n",
        "print(\"Colunas (Atributos):{}\".format(data.shape[1]))"
      ],
      "metadata": {
        "colab": {
          "base_uri": "https://localhost:8080/"
        },
        "id": "nEoeszyOF4c0",
        "outputId": "c698f60e-f11c-441c-d870-62cf993d0473"
      },
      "execution_count": null,
      "outputs": [
        {
          "output_type": "stream",
          "name": "stdout",
          "text": [
            "Dimensão dos dados:\n",
            "Linhas (Instâncias):6435\n",
            "Colunas (Atributos):11\n"
          ]
        }
      ]
    },
    {
      "cell_type": "code",
      "source": [
        "#Verificando dados nulos\n",
        "data.isnull().sum()"
      ],
      "metadata": {
        "colab": {
          "base_uri": "https://localhost:8080/"
        },
        "id": "51jJ5sanF8Pa",
        "outputId": "4ff3c4e5-35ca-4e27-baa5-72982a1029c5"
      },
      "execution_count": null,
      "outputs": [
        {
          "output_type": "execute_result",
          "data": {
            "text/plain": [
              "Store           0\n",
              "Weekly_Sales    0\n",
              "Holiday_Flag    0\n",
              "Temperature     0\n",
              "Fuel_Price      0\n",
              "CPI             0\n",
              "Unemployment    0\n",
              "Day             0\n",
              "Week            0\n",
              "Month           0\n",
              "Year            0\n",
              "dtype: int64"
            ]
          },
          "metadata": {},
          "execution_count": 118
        }
      ]
    },
    {
      "cell_type": "code",
      "source": [
        "# Separando os dados em features e target\n",
        "features = data.drop('Weekly_Sales', axis=1)\n",
        "target = data['Weekly_Sales']\n",
        "\n",
        "# Aplicando a funcao train_test_split para dividir o conjunto original em 70% para treindo e 30% para teste\n",
        "features_train, features_test, target_train, target_test = train_test_split(features, target, test_size=0.3, random_state=1)\n",
        "\n",
        "print('Tamanho Features Treinamento: ', len(features_train))\n",
        "print('Tamanho Features Teste: ', len(features_test))\n",
        "print('Tamanho Target Treinamento: ', len(target_train))\n",
        "print('Tamanho Target Teste: ', len(target_test))"
      ],
      "metadata": {
        "id": "hMO1OG_gxmpT",
        "colab": {
          "base_uri": "https://localhost:8080/"
        },
        "outputId": "650a1ba6-03bb-4799-851d-1b0fd83e8ac9"
      },
      "execution_count": null,
      "outputs": [
        {
          "output_type": "stream",
          "name": "stdout",
          "text": [
            "Tamanho Features Treinamento:  4504\n",
            "Tamanho Features Teste:  1931\n",
            "Tamanho Target Treinamento:  4504\n",
            "Tamanho Target Teste:  1931\n"
          ]
        }
      ]
    },
    {
      "cell_type": "code",
      "source": [
        "with open('treinamento.txt', 'w+') as f:\n",
        "\n",
        "\n",
        "      for items in target_test:\n",
        "          f.write('%s\\n' %items)\n",
        "\n",
        "      print(\"File written successfully\")\n",
        "\n",
        "\n",
        "f.close()"
      ],
      "metadata": {
        "colab": {
          "base_uri": "https://localhost:8080/"
        },
        "id": "UkUYKpPKjCVl",
        "outputId": "deff5291-aeee-446b-8a23-384745f6dccc"
      },
      "execution_count": null,
      "outputs": [
        {
          "output_type": "stream",
          "name": "stdout",
          "text": [
            "File written successfully\n"
          ]
        }
      ]
    },
    {
      "cell_type": "code",
      "source": [
        "#Como precisamos de dividir o modelo de treinamento em 4 partes vamos fazer divisões por dois sucessivas para obter isso\n",
        "features_um, features_dois, target_um, target_dois= train_test_split(features_train, target_train, test_size=0.5, random_state=1)\n",
        "print('Tamanho features 1: ',len(features_um))\n",
        "print('Tamanho features 2: ',len(features_dois))\n",
        "print('Tamanho saida 1: ',len(target_um))\n",
        "print('Tamanho saida 2: ',len(target_dois))"
      ],
      "metadata": {
        "colab": {
          "base_uri": "https://localhost:8080/"
        },
        "id": "HN6_JlMoGtsJ",
        "outputId": "698de1ea-8116-4a03-bca8-9c1bf9875f67"
      },
      "execution_count": null,
      "outputs": [
        {
          "output_type": "stream",
          "name": "stdout",
          "text": [
            "Tamanho features 1:  2252\n",
            "Tamanho features 2:  2252\n",
            "Tamanho saida 1:  2252\n",
            "Tamanho saida 2:  2252\n"
          ]
        }
      ]
    },
    {
      "cell_type": "code",
      "source": [
        "#Agora iremos dividir os dois grupos obtidos na iteração passada por dois, obtendo quatro grupos diferentes\n",
        "features_um, features_tres, target_um, target_tres= train_test_split(features_um,target_um, test_size=0.5, random_state=123)\n",
        "features_dois, features_quatro, target_dois, target_quatro= train_test_split(features_dois, target_dois, test_size=0.5, random_state=1)\n",
        "print('Tamanho features 1: ',len(features_um))\n",
        "print('Tamanho features 2: ',len(features_tres))\n",
        "print('Tamanho features 3: ',len(features_dois))\n",
        "print('Tamanho features 4: ',len(features_quatro))\n",
        "print('-----------------------')\n",
        "print('Tamanho target 1: ',len(target_um))\n",
        "print('Tamanho target 2: ',len(target_tres))\n",
        "print('Tamanho target 3: ',len(target_dois))\n",
        "print('Tamanho target 4: ',len(target_quatro))"
      ],
      "metadata": {
        "colab": {
          "base_uri": "https://localhost:8080/"
        },
        "id": "EL2NdUpyHOuQ",
        "outputId": "d54a201b-6ed9-4d26-bae6-d1738b7646d6"
      },
      "execution_count": null,
      "outputs": [
        {
          "output_type": "stream",
          "name": "stdout",
          "text": [
            "Tamanho features 1:  1126\n",
            "Tamanho features 2:  1126\n",
            "Tamanho features 3:  1126\n",
            "Tamanho features 4:  1126\n",
            "-----------------------\n",
            "Tamanho target 1:  1126\n",
            "Tamanho target 2:  1126\n",
            "Tamanho target 3:  1126\n",
            "Tamanho target 4:  1126\n"
          ]
        }
      ]
    },
    {
      "cell_type": "markdown",
      "source": [
        "# K-NEAREST NEIGBOURS - KNN"
      ],
      "metadata": {
        "id": "FcbVwgyCnyJu"
      }
    },
    {
      "cell_type": "code",
      "source": [
        "from sklearn.metrics import accuracy_score, recall_score, precision_score, f1_score, confusion_matrix, classification_report"
      ],
      "metadata": {
        "id": "KN75mphlxvhL"
      },
      "execution_count": null,
      "outputs": []
    },
    {
      "cell_type": "code",
      "source": [
        "from sklearn.neighbors import KNeighborsRegressor\n",
        "from sklearn.model_selection import GridSearchCV\n",
        "# Definir parâmetros para busca em grade, esses parametros serao variados para atingir o objetivo pedido no trabalho (Devem ser geradas 15 variações de parâmetros para cada uma das 4 tecnicas de IA;)\n",
        "parameters = {\n",
        "    'n_neighbors': [10, 20, 30, 40, 50, 60, 70, 80, 90, 100, 110, 120, 130, 140, 150]\n",
        "}\n",
        "\n",
        "# Lista para armazenar os resultados dos modelos, vamos armazenar os melhores\n",
        "resultados = []\n",
        "\n",
        "# Armazenando cada conjunto em uma array para fazer o loop\n",
        "subconjuntos_features = [features_um, features_dois, features_tres, features_quatro]\n",
        "subconjuntos_target = [target_um, target_dois, target_tres, target_quatro]\n",
        "\n",
        "# Loop pelos subconjuntos de treinamento\n",
        "for i in range(len(subconjuntos_features)):\n",
        "    X_train = subconjuntos_features[i]\n",
        "    y_train = subconjuntos_target[i]\n",
        "\n",
        "    # Criar o classificador de árvore de decisão\n",
        "    classificador = KNeighborsRegressor(metric='euclidean')\n",
        "\n",
        "    # Realizar busca em grade para encontrar a melhor combinação de parametros\n",
        "    buscaGrade = GridSearchCV(classificador, parameters, scoring='neg_mean_absolute_percentage_error', cv=5)\n",
        "    buscaGrade.fit(X_train, y_train)\n",
        "\n",
        "    # Obter os melhores parametros encontrados e a melhor pontuação\n",
        "    melhorParam = buscaGrade.best_params_\n",
        "    melhorPont = buscaGrade.best_score_\n",
        "\n",
        "    # Armazenar os resultados\n",
        "    resultados.append((melhorParam, melhorPont))\n",
        "\n",
        "# Exibir os resultados\n",
        "for i in range(len(resultados)):\n",
        "    print(f\"Resultados para subconjunto de treinamento {i+1}:\")\n",
        "    print(\"Melhores parâmetros:\", resultados[i][0])\n",
        "    print(\"Melhor pontuação:\", resultados[i][1]*-1)\n",
        "    print()"
      ],
      "metadata": {
        "colab": {
          "base_uri": "https://localhost:8080/"
        },
        "id": "pYIPOGKhFx7J",
        "outputId": "0b4bcd0e-dbf0-4534-aaee-1d6f6a7a2662"
      },
      "execution_count": null,
      "outputs": [
        {
          "output_type": "stream",
          "name": "stdout",
          "text": [
            "Resultados para subconjunto de treinamento 1:\n",
            "Melhores parâmetros: {'n_neighbors': 10}\n",
            "Melhor pontuação: 0.5232052699217333\n",
            "\n",
            "Resultados para subconjunto de treinamento 2:\n",
            "Melhores parâmetros: {'n_neighbors': 10}\n",
            "Melhor pontuação: 0.5057878995400061\n",
            "\n",
            "Resultados para subconjunto de treinamento 3:\n",
            "Melhores parâmetros: {'n_neighbors': 10}\n",
            "Melhor pontuação: 0.5119867334796862\n",
            "\n",
            "Resultados para subconjunto de treinamento 4:\n",
            "Melhores parâmetros: {'n_neighbors': 10}\n",
            "Melhor pontuação: 0.5323333019903214\n",
            "\n"
          ]
        }
      ]
    },
    {
      "cell_type": "markdown",
      "source": [
        "## Testando o KNN"
      ],
      "metadata": {
        "id": "8cJgXOtkoxwd"
      }
    },
    {
      "cell_type": "code",
      "source": [
        "import matplotlib.pyplot as plt\n",
        "import numpy\n",
        "from sklearn import metrics\n",
        "from sklearn.metrics import r2_score\n",
        "from sklearn.metrics import mean_squared_error\n",
        "from sklearn.metrics import mean_absolute_error\n",
        "from sklearn.metrics import mean_absolute_percentage_error"
      ],
      "metadata": {
        "id": "4BKUuNPUg_dB"
      },
      "execution_count": null,
      "outputs": []
    },
    {
      "cell_type": "code",
      "source": [
        "# Loop pelos subconjuntos de teste\n",
        "predicao_KNN= [[] for i in range(4)]\n",
        "for i in range(4):\n",
        "\n",
        "    # Criar o classificador de arvore de decisao com os melhores parametros encontrados\n",
        "    classifier = KNeighborsRegressor(**resultados[i][0])\n",
        "\n",
        "    # Treinar o classificador com o conjunto de treinamento correspondente\n",
        "    classifier.fit(subconjuntos_features[i], subconjuntos_target[i])\n",
        "\n",
        "    # Fazer previsoes no conjunto de teste\n",
        "    y_pred = classifier.predict(features_test)\n",
        "    predicao_KNN[i] = y_pred\n",
        "\n",
        "    # Calcular todas as metricas\n",
        "    r2 = r2_score(target_test, y_pred,)\n",
        "    MSE = mean_squared_error(target_test,y_pred)\n",
        "    RMSE = mean_squared_error(target_test,y_pred, squared=False)\n",
        "    MAE = mean_absolute_error(target_test,y_pred)\n",
        "    MAPE = mean_absolute_percentage_error(target_test, y_pred)\n",
        "\n",
        "    # Exibicao dos resultados\n",
        "    print(f\"-----Subsconjundo de dados {i+1}-----\")\n",
        "    print(f\"R2 para o Teste : {r2}\")\n",
        "    #print(f\"Erro Quadrático Médio para o Teste : {MSE}\")\n",
        "    #print(f\"Raiz Erro Quadrático Médio para o Teste : {RMSE}\")\n",
        "    print(f\"Erro Absoluto Médio para o Teste : {MAE}\")\n",
        "    print(f\"Mean Absolute Percentage Error para o Teste : {MAPE}\")\n",
        "    print()"
      ],
      "metadata": {
        "colab": {
          "base_uri": "https://localhost:8080/"
        },
        "outputId": "47eda1ad-e91c-4975-b653-12171c9e3c4e",
        "id": "Xupfxf-xlwDD"
      },
      "execution_count": null,
      "outputs": [
        {
          "output_type": "stream",
          "name": "stdout",
          "text": [
            "-----Subsconjundo de dados 1-----\n",
            "R2 para o Teste : 0.28754092818115173\n",
            "Erro Absoluto Médio para o Teste : 386501.357934231\n",
            "Mean Absolute Percentage Error para o Teste : 0.5024235525916241\n",
            "\n",
            "-----Subsconjundo de dados 2-----\n",
            "R2 para o Teste : 0.2824989823898565\n",
            "Erro Absoluto Médio para o Teste : 384221.26961522526\n",
            "Mean Absolute Percentage Error para o Teste : 0.5189235423105255\n",
            "\n",
            "-----Subsconjundo de dados 3-----\n",
            "R2 para o Teste : 0.2551661650634275\n",
            "Erro Absoluto Médio para o Teste : 392302.6335877783\n",
            "Mean Absolute Percentage Error para o Teste : 0.49997273233489486\n",
            "\n",
            "-----Subsconjundo de dados 4-----\n",
            "R2 para o Teste : 0.27025769149423395\n",
            "Erro Absoluto Médio para o Teste : 389215.6962278612\n",
            "Mean Absolute Percentage Error para o Teste : 0.5164184789084586\n",
            "\n"
          ]
        }
      ]
    },
    {
      "cell_type": "code",
      "source": [
        "for i in range(4):\n",
        "  print(f\"Lista de Resultados do Teste {i+1}\")\n",
        "  print()\n",
        "  print(predicao_KNN[i])\n",
        "  print()"
      ],
      "metadata": {
        "colab": {
          "base_uri": "https://localhost:8080/"
        },
        "id": "QogmWqnQAij6",
        "outputId": "6e758d8a-d460-4fac-cc6d-58da4865e1a5"
      },
      "execution_count": null,
      "outputs": [
        {
          "output_type": "stream",
          "name": "stdout",
          "text": [
            "Lista de Resultados do Teste 1\n",
            "\n",
            "[1666470.807  664903.821 1124792.098 ...  993554.178  783779.867\n",
            "  922995.243]\n",
            "\n",
            "Lista de Resultados do Teste 2\n",
            "\n",
            "[1558505.019  670421.174 1268316.834 ...  961260.673  913490.231\n",
            " 1008200.487]\n",
            "\n",
            "Lista de Resultados do Teste 3\n",
            "\n",
            "[1587139.725  766685.175 1239229.249 ...  984723.047  801944.825\n",
            " 1056782.063]\n",
            "\n",
            "Lista de Resultados do Teste 4\n",
            "\n",
            "[1606078.904  619012.224 1118430.667 ...  860699.277  861432.116\n",
            "  967002.889]\n",
            "\n"
          ]
        }
      ]
    },
    {
      "cell_type": "code",
      "source": [
        "for i in range(4):\n",
        "  with open(f'KNN_{i+1}.txt', 'w+') as f:\n",
        "\n",
        "\n",
        "      for items in predicao_KNN[i]:\n",
        "          f.write('%s\\n' %items)\n",
        "\n",
        "      print(\"File written successfully\")\n",
        "\n",
        "\n",
        "  f.close()"
      ],
      "metadata": {
        "colab": {
          "base_uri": "https://localhost:8080/"
        },
        "id": "McFolLzHDryF",
        "outputId": "92a09f40-2d2d-4cc3-c315-e2e574670433"
      },
      "execution_count": null,
      "outputs": [
        {
          "output_type": "stream",
          "name": "stdout",
          "text": [
            "File written successfully\n",
            "File written successfully\n",
            "File written successfully\n",
            "File written successfully\n"
          ]
        }
      ]
    },
    {
      "cell_type": "markdown",
      "source": [
        "# FLORESTA ALEATÓRIA"
      ],
      "metadata": {
        "id": "8eDPGXdvB1LL"
      }
    },
    {
      "cell_type": "markdown",
      "source": [
        "O código de floresta aleatória demora alguns minutos para rodar"
      ],
      "metadata": {
        "id": "dWlFUucZ1uMj"
      }
    },
    {
      "cell_type": "code",
      "source": [
        "from sklearn.ensemble import RandomForestRegressor\n",
        "from sklearn.model_selection import GridSearchCV\n",
        "# Definir parâmetros para busca em grade, esses parametros serao variados para atingir o objetivo pedido no trabalho (Devem ser geradas 15 variações de parâmetros para cada uma das 4 tecnicas de IA;)\n",
        "parameters = {\n",
        "    'n_estimators': [300,310,320,330,340],\n",
        "    'max_depth': [5, 10, 15]\n",
        "}\n",
        "\n",
        "# Lista para armazenar os resultados dos modelos, vamos armazenar os melhores\n",
        "resultados = []\n",
        "\n",
        "# Armazenando cada conjunto em uma array para fazer o loop\n",
        "subconjuntos_features = [features_um, features_dois, features_tres, features_quatro]\n",
        "subconjuntos_target = [target_um, target_dois, target_tres, target_quatro]\n",
        "\n",
        "# Loop pelos subconjuntos de treinamento\n",
        "for i in range(len(subconjuntos_features)):\n",
        "    X_train = subconjuntos_features[i]\n",
        "    y_train = subconjuntos_target[i]\n",
        "\n",
        "    # Criar o classificador de árvore de decisão\n",
        "    classificador = RandomForestRegressor(n_jobs=-1)\n",
        "\n",
        "    # Realizar busca em grade para encontrar a melhor combinação de parametros\n",
        "    buscaGrade = GridSearchCV(classificador, parameters, scoring='neg_mean_absolute_percentage_error', cv=5)\n",
        "    buscaGrade.fit(X_train, y_train)\n",
        "\n",
        "    # Obter os melhores parametros encontrados e a melhor pontuação\n",
        "    melhorParam = buscaGrade.best_params_\n",
        "    melhorPont = buscaGrade.best_score_\n",
        "\n",
        "    # Armazenar os resultados\n",
        "    resultados.append((melhorParam, melhorPont))\n",
        "\n",
        "# Exibir os resultados\n",
        "for i in range(len(resultados)):\n",
        "    print(f\"Resultados para subconjunto de treinamento {i+1}:\")\n",
        "    print(\"Melhores parâmetros:\", resultados[i][0])\n",
        "    print(\"Melhor pontuação:\", resultados[i][1]*-1)\n",
        "    print()"
      ],
      "metadata": {
        "colab": {
          "base_uri": "https://localhost:8080/"
        },
        "outputId": "c1142a1c-95cd-4730-ab53-eb55680a22b7",
        "id": "IvveVq6dB1LM"
      },
      "execution_count": null,
      "outputs": [
        {
          "output_type": "stream",
          "name": "stdout",
          "text": [
            "Resultados para subconjunto de treinamento 1:\n",
            "Melhores parâmetros: {'max_depth': 15, 'n_estimators': 320}\n",
            "Melhor pontuação: 0.09889069484881023\n",
            "\n",
            "Resultados para subconjunto de treinamento 2:\n",
            "Melhores parâmetros: {'max_depth': 15, 'n_estimators': 310}\n",
            "Melhor pontuação: 0.10475507235687324\n",
            "\n",
            "Resultados para subconjunto de treinamento 3:\n",
            "Melhores parâmetros: {'max_depth': 15, 'n_estimators': 310}\n",
            "Melhor pontuação: 0.0941876156199931\n",
            "\n",
            "Resultados para subconjunto de treinamento 4:\n",
            "Melhores parâmetros: {'max_depth': 15, 'n_estimators': 320}\n",
            "Melhor pontuação: 0.09285517006377657\n",
            "\n"
          ]
        }
      ]
    },
    {
      "cell_type": "markdown",
      "source": [
        "## Testando a Floresta Aleatória"
      ],
      "metadata": {
        "id": "U6ZllZugCOwr"
      }
    },
    {
      "cell_type": "code",
      "source": [
        "import matplotlib.pyplot as plt\n",
        "import numpy\n",
        "from sklearn import metrics\n",
        "from sklearn.metrics import r2_score\n",
        "from sklearn.metrics import mean_squared_error\n",
        "from sklearn.metrics import mean_absolute_error\n",
        "from sklearn.metrics import mean_absolute_percentage_error"
      ],
      "metadata": {
        "id": "a73YmHHqyutP"
      },
      "execution_count": null,
      "outputs": []
    },
    {
      "cell_type": "code",
      "source": [
        "# Loop pelos subconjuntos de teste\n",
        "predicao_Floresta= [[] for i in range(4)]\n",
        "for i in range(4):\n",
        "\n",
        "    # Criar o classificador de arvore de decisao com os melhores parametros encontrados\n",
        "    classifier = RandomForestRegressor(**resultados[i][0])\n",
        "\n",
        "    # Treinar o classificador com o conjunto de treinamento correspondente\n",
        "    classifier.fit(subconjuntos_features[i], subconjuntos_target[i])\n",
        "\n",
        "    # Fazer previsoes no conjunto de teste\n",
        "    y_pred = classifier.predict(features_test)\n",
        "    predicao_Floresta[i] = y_pred\n",
        "\n",
        "    # Calcular todas as metricas\n",
        "    r2 = r2_score(target_test, y_pred,)\n",
        "    MSE = mean_squared_error(target_test,y_pred)\n",
        "    RMSE = mean_squared_error(target_test,y_pred, squared=False)\n",
        "    MAE = mean_absolute_error(target_test,y_pred)\n",
        "    MAPE = mean_absolute_percentage_error(target_test, y_pred)\n",
        "\n",
        "    # Exibicao dos resultados\n",
        "    print(f\"-----Subsconjundo de dados {i+1}-----\")\n",
        "    print(f\"R2 para o Teste : {r2}\")\n",
        "    #print(f\"Erro Quadrático Médio para o Teste : {MSE}\")\n",
        "    #print(f\"Raiz Erro Quadrático Médio para o Teste : {RMSE}\")\n",
        "    print(f\"Erro Absoluto Médio para o Teste : {MAE}\")\n",
        "    print(f\"Mean Absolute Percentage Error para o Teste : {MAPE}\")\n",
        "    print()"
      ],
      "metadata": {
        "colab": {
          "base_uri": "https://localhost:8080/"
        },
        "id": "nWdgIuflyrLa",
        "outputId": "d7cecaad-238e-4e18-fc9c-68e5a69081e9"
      },
      "execution_count": null,
      "outputs": [
        {
          "output_type": "stream",
          "name": "stdout",
          "text": [
            "-----Subsconjundo de dados 1-----\n",
            "R2 para o Teste : 0.9258434452312114\n",
            "Erro Absoluto Médio para o Teste : 81816.18764611417\n",
            "Mean Absolute Percentage Error para o Teste : 0.07806677378657341\n",
            "\n",
            "-----Subsconjundo de dados 2-----\n",
            "R2 para o Teste : 0.9228233744877362\n",
            "Erro Absoluto Médio para o Teste : 88776.92264149478\n",
            "Mean Absolute Percentage Error para o Teste : 0.08841362884107756\n",
            "\n",
            "-----Subsconjundo de dados 3-----\n",
            "R2 para o Teste : 0.9330735281398224\n",
            "Erro Absoluto Médio para o Teste : 82621.42836608925\n",
            "Mean Absolute Percentage Error para o Teste : 0.07889826908909171\n",
            "\n",
            "-----Subsconjundo de dados 4-----\n",
            "R2 para o Teste : 0.9357073285111891\n",
            "Erro Absoluto Médio para o Teste : 80429.09472768505\n",
            "Mean Absolute Percentage Error para o Teste : 0.07464202448475922\n",
            "\n"
          ]
        }
      ]
    },
    {
      "cell_type": "code",
      "source": [
        "for i in range(4):\n",
        "  print(f\"Lista de Resultados do Teste {i+1}\")\n",
        "  print()\n",
        "  print(predicao_Floresta[i])\n",
        "  print()"
      ],
      "metadata": {
        "colab": {
          "base_uri": "https://localhost:8080/"
        },
        "id": "2_sBYcTtAJ1E",
        "outputId": "63989fb8-8144-4e83-eada-614d37ca3a40"
      },
      "execution_count": null,
      "outputs": [
        {
          "output_type": "stream",
          "name": "stdout",
          "text": [
            "Lista de Resultados do Teste 1\n",
            "\n",
            "[1858579.72763456  483138.32046198 1291199.98110956 ... 1871784.36765625\n",
            "  643009.7762615  1173789.91074477]\n",
            "\n",
            "Lista de Resultados do Teste 2\n",
            "\n",
            "[1910876.78476003  499633.2407545  1362637.46190076 ... 1875297.12985162\n",
            "  627426.81514439 1251251.45831788]\n",
            "\n",
            "Lista de Resultados do Teste 3\n",
            "\n",
            "[2002667.8200823   516010.03419444 1307632.64324496 ... 1785583.80406452\n",
            "  634033.35078853 1145237.04067169]\n",
            "\n",
            "Lista de Resultados do Teste 4\n",
            "\n",
            "[1852455.68770292  498497.70332071 1275600.32222062 ... 1891723.30749166\n",
            "  617512.46368679 1170157.48569447]\n",
            "\n"
          ]
        }
      ]
    },
    {
      "cell_type": "code",
      "source": [
        "for i in range(4):\n",
        "  with open(f'Floresta_{i+1}.txt', 'w+') as f:\n",
        "\n",
        "\n",
        "      for items in predicao_Floresta[i]:\n",
        "          f.write('%s\\n' %items)\n",
        "\n",
        "      print(\"File written successfully\")\n",
        "\n",
        "\n",
        "  f.close()"
      ],
      "metadata": {
        "colab": {
          "base_uri": "https://localhost:8080/"
        },
        "outputId": "42483b1b-4155-4b2e-a153-9f488b9d6391",
        "id": "dqSwC2LkJJKb"
      },
      "execution_count": null,
      "outputs": [
        {
          "output_type": "stream",
          "name": "stdout",
          "text": [
            "File written successfully\n",
            "File written successfully\n",
            "File written successfully\n",
            "File written successfully\n"
          ]
        }
      ]
    },
    {
      "cell_type": "markdown",
      "source": [
        "# Árvore de Decisão"
      ],
      "metadata": {
        "id": "JqJwRVOOxibT"
      }
    },
    {
      "cell_type": "markdown",
      "source": [
        "Estrutura na qual cada nó interno representa um \"teste\" em um atributo do banco de dados"
      ],
      "metadata": {
        "id": "W_4QtmbuxmnV"
      }
    },
    {
      "cell_type": "code",
      "source": [
        "# Importando bibliotecas\n",
        "from sklearn.tree import DecisionTreeRegressor\n",
        "from sklearn.model_selection import GridSearchCV\n",
        "\n",
        "# Definir parametros para a busca em grade\n",
        "parameters = {\n",
        "    'max_depth': [5, 10, 15, 20],\n",
        "    'min_samples_split': [2, 5, 10],\n",
        "    'min_samples_leaf': [1, 2, 4]\n",
        "}\n",
        "\n",
        "# Lista para armazenar os resultados dos modelos, vamos armazenar os melhores\n",
        "resultados = []\n",
        "\n",
        "# Armazenando cada conjunto em uma array para fazer o loop\n",
        "subconjuntos_features = [features_um, features_dois, features_tres, features_quatro]\n",
        "subconjuntos_target = [target_um, target_dois, target_tres, target_quatro]\n",
        "\n",
        "# Loop pelos subconjuntos de treinamento\n",
        "for i in range(len(subconjuntos_features)):\n",
        "    X_train = subconjuntos_features[i]\n",
        "    y_train = subconjuntos_target[i]\n",
        "\n",
        "    # Criar o classificador de árvore de decisão\n",
        "    regressor = DecisionTreeRegressor()\n",
        "\n",
        "    # Realizar busca em grade para encontrar a melhor combinação de parametros\n",
        "    buscaGrade = GridSearchCV(regressor, parameters, scoring='neg_mean_absolute_percentage_error', cv=5)\n",
        "    buscaGrade.fit(X_train, y_train)\n",
        "\n",
        "    # Obter os melhores parametros encontrados e a melhor pontuação\n",
        "    melhorParam = buscaGrade.best_params_\n",
        "    melhorPont = buscaGrade.best_score_\n",
        "\n",
        "    # Armazenar os resultados\n",
        "    resultados.append((melhorParam, melhorPont))\n",
        "\n",
        "# Exibir os resultados\n",
        "for i in range(len(resultados)):\n",
        "    print(f\"Resultados para subconjunto de treinamento {i+1}:\")\n",
        "    print(\"Melhores parâmetros:\", resultados[i][0])\n",
        "    print(\"Melhor pontuação:\", resultados[i][1]*(-1))\n",
        "    print()"
      ],
      "metadata": {
        "id": "bKYe5hEWxqiS",
        "colab": {
          "base_uri": "https://localhost:8080/"
        },
        "outputId": "1b1e3a72-70b6-4bf5-ed1d-5d9a836898b7"
      },
      "execution_count": null,
      "outputs": [
        {
          "output_type": "stream",
          "name": "stdout",
          "text": [
            "Resultados para subconjunto de treinamento 1:\n",
            "Melhores parâmetros: {'max_depth': 15, 'min_samples_leaf': 2, 'min_samples_split': 2}\n",
            "Melhor pontuação: 0.10654624338719842\n",
            "\n",
            "Resultados para subconjunto de treinamento 2:\n",
            "Melhores parâmetros: {'max_depth': 20, 'min_samples_leaf': 1, 'min_samples_split': 5}\n",
            "Melhor pontuação: 0.11677213455007802\n",
            "\n",
            "Resultados para subconjunto de treinamento 3:\n",
            "Melhores parâmetros: {'max_depth': 20, 'min_samples_leaf': 1, 'min_samples_split': 10}\n",
            "Melhor pontuação: 0.11219302865705139\n",
            "\n",
            "Resultados para subconjunto de treinamento 4:\n",
            "Melhores parâmetros: {'max_depth': 20, 'min_samples_leaf': 4, 'min_samples_split': 10}\n",
            "Melhor pontuação: 0.09152094983175381\n",
            "\n"
          ]
        }
      ]
    },
    {
      "cell_type": "markdown",
      "source": [
        "## Testando a Árvore de Decisão"
      ],
      "metadata": {
        "id": "6OYj4x3Sx4GI"
      }
    },
    {
      "cell_type": "code",
      "source": [
        "# Importando bibliotecas\n",
        "from sklearn.tree import DecisionTreeRegressor\n",
        "import matplotlib.pyplot as plt\n",
        "import numpy as np\n",
        "from sklearn import metrics\n",
        "import matplotlib.pyplot as plt\n",
        "import numpy\n",
        "from sklearn import metrics\n",
        "from sklearn.metrics import r2_score\n",
        "from sklearn.metrics import mean_squared_error\n",
        "from sklearn.metrics import mean_absolute_error\n",
        "from sklearn.metrics import mean_absolute_percentage_error\n",
        "\n",
        "# Loop pelos subconjuntos de teste\n",
        "predicao_arvore= [[] for i in range(4)]\n",
        "for i in range(4):\n",
        "\n",
        "    # Criar o classificador de arvore de decisao com os melhores parametros encontrados\n",
        "    classificador = DecisionTreeRegressor(**resultados[i][0])\n",
        "\n",
        "    # Treinar o classificador com o conjunto de treinamento correspondente\n",
        "    classificador.fit(subconjuntos_features[i], subconjuntos_target[i])\n",
        "\n",
        "    # Fazer previsoes no conjunto de teste\n",
        "    y_pred = classificador.predict(features_test)\n",
        "    predicao_arvore[i] = y_pred\n",
        "\n",
        "    # Calcular todas as metricas\n",
        "    r2 = r2_score(target_test, y_pred,)\n",
        "    MSE = mean_squared_error(target_test,y_pred)\n",
        "    RMSE = mean_squared_error(target_test,y_pred, squared=False)\n",
        "    MAE = mean_absolute_error(target_test,y_pred)\n",
        "    MAPE = mean_absolute_percentage_error(target_test, y_pred)\n",
        "\n",
        "    # Exibicao dos resultados\n",
        "    print(f\"-----Subsconjundo de dados {i+1}-----\")\n",
        "    print(f\"R2 para o Teste : {r2}\")\n",
        "    print(f\"Erro Absoluto Médio para o Teste : {MAE}\")\n",
        "    print(f\"Mean Absolute Percentage Error para o Teste : {MAPE}\")\n",
        "    print()"
      ],
      "metadata": {
        "id": "xLC72Z8Gx7Gg",
        "colab": {
          "base_uri": "https://localhost:8080/"
        },
        "outputId": "7176709a-8aa6-4681-c963-2c02b7b93750"
      },
      "execution_count": null,
      "outputs": [
        {
          "output_type": "stream",
          "name": "stdout",
          "text": [
            "-----Subsconjundo de dados 1-----\n",
            "R2 para o Teste : 0.8883141078127307\n",
            "Erro Absoluto Médio para o Teste : 103272.59979883245\n",
            "Mean Absolute Percentage Error para o Teste : 0.09563573754907607\n",
            "\n",
            "-----Subsconjundo de dados 2-----\n",
            "R2 para o Teste : 0.8447641254017966\n",
            "Erro Absoluto Médio para o Teste : 108675.05175384085\n",
            "Mean Absolute Percentage Error para o Teste : 0.09878434596885809\n",
            "\n",
            "-----Subsconjundo de dados 3-----\n",
            "R2 para o Teste : 0.8816838044861395\n",
            "Erro Absoluto Médio para o Teste : 103260.31889376751\n",
            "Mean Absolute Percentage Error para o Teste : 0.09449236385931405\n",
            "\n",
            "-----Subsconjundo de dados 4-----\n",
            "R2 para o Teste : 0.9216536620241668\n",
            "Erro Absoluto Médio para o Teste : 90713.74922478483\n",
            "Mean Absolute Percentage Error para o Teste : 0.08252202567500662\n",
            "\n"
          ]
        }
      ]
    },
    {
      "cell_type": "code",
      "source": [
        "for i in range(4):\n",
        "  print(f\"Lista de Resultados do Teste {i+1}\")\n",
        "  print()\n",
        "  print(predicao_arvore[i])\n",
        "  print()"
      ],
      "metadata": {
        "colab": {
          "base_uri": "https://localhost:8080/"
        },
        "id": "CQE7fqv0Jgs9",
        "outputId": "3291c743-15c9-4806-e4e3-cb55c8e07f9e"
      },
      "execution_count": null,
      "outputs": [
        {
          "output_type": "stream",
          "name": "stdout",
          "text": [
            "Lista de Resultados do Teste 1\n",
            "\n",
            "[1824364.66666667  462172.39       1285424.86       ... 1837648.515\n",
            "  670882.34       1185923.64      ]\n",
            "\n",
            "Lista de Resultados do Teste 2\n",
            "\n",
            "[1720530.23   476695.91  1366972.365 ... 1892737.57   644653.89\n",
            " 1112678.075]\n",
            "\n",
            "Lista de Resultados do Teste 3\n",
            "\n",
            "[1997383.0775  475016.125  1311951.3625 ... 1774853.7925  662336.762\n",
            "  817837.4   ]\n",
            "\n",
            "Lista de Resultados do Teste 4\n",
            "\n",
            "[1722577.4725      468307.17       1218578.7        ... 1811060.17833333\n",
            "  651368.07166667 1082339.315     ]\n",
            "\n"
          ]
        }
      ]
    },
    {
      "cell_type": "code",
      "source": [
        "for i in range(4):\n",
        "  with open(f'Arvore_{i+1}.txt', 'w+') as f:\n",
        "\n",
        "\n",
        "      for items in predicao_arvore[i]:\n",
        "          f.write('%s\\n' %items)\n",
        "\n",
        "      print(\"File written successfully\")\n",
        "\n",
        "\n",
        "  f.close()"
      ],
      "metadata": {
        "colab": {
          "base_uri": "https://localhost:8080/"
        },
        "outputId": "535bf239-bbff-4aa9-b5c8-54dda06fb556",
        "id": "vb2-VyuBJPVH"
      },
      "execution_count": null,
      "outputs": [
        {
          "output_type": "stream",
          "name": "stdout",
          "text": [
            "File written successfully\n",
            "File written successfully\n",
            "File written successfully\n",
            "File written successfully\n"
          ]
        }
      ]
    },
    {
      "cell_type": "markdown",
      "source": [
        "# XGBoost"
      ],
      "metadata": {
        "id": "WlRrsUVVzDZj"
      }
    },
    {
      "cell_type": "markdown",
      "source": [
        "Faz um \"ensemble\" com as árvores de decisão para o treinamento"
      ],
      "metadata": {
        "id": "8_8kwseP-2NP"
      }
    },
    {
      "cell_type": "code",
      "source": [
        "# Importando bibliotecas\n",
        "from sklearn.model_selection import GridSearchCV\n",
        "import xgboost as xgb\n",
        "from xgboost import XGBRegressor\n",
        "\n",
        "# Definir parametros para a busca em grade\n",
        "param_grid = {\n",
        "    'max_depth': [3, 5],\n",
        "    'learning_rate': [0.1, 0.05],\n",
        "    'n_estimators': [100, 200]\n",
        "}\n",
        "\n",
        "# Lista para armazenar os resultados dos modelos, vamos armazenar os melhores\n",
        "resultados = []\n",
        "\n",
        "# Armazenando cada conjunto em uma array para fazer o loop\n",
        "subconjuntos_features = [features_um, features_dois, features_tres, features_quatro]\n",
        "subconjuntos_target = [target_um, target_dois, target_tres, target_quatro]\n",
        "\n",
        "# Loop pelos subconjuntos de treinamento\n",
        "for i in range(len(subconjuntos_features)):\n",
        "    X_train = subconjuntos_features[i]\n",
        "    y_train = subconjuntos_target[i]\n",
        "\n",
        "    # Realizar busca em grade para encontrar a melhor combinação de parametros\n",
        "    buscaGrade = GridSearchCV(XGBRegressor(), param_grid, cv=3)\n",
        "    buscaGrade.fit(X_train, y_train)\n",
        "\n",
        "    # Obter os melhores parametros encontrados e a melhor pontuação\n",
        "    melhorParam = buscaGrade.best_params_\n",
        "    melhorPont = buscaGrade.best_score_\n",
        "\n",
        "    model = XGBRegressor(**melhorParam)\n",
        "    model.fit(X_train, y_train)\n",
        "\n",
        "    # Armazenar os resultados\n",
        "    resultados.append((melhorParam, melhorPont))\n",
        "\n",
        "# Exibir os resultados\n",
        "for i in range(len(resultados)):\n",
        "    print(f\"Resultados para subconjunto de treinamento {i+1}:\")\n",
        "    print(\"Melhores parâmetros:\", resultados[i][0])\n",
        "    print(\"Melhor pontuação:\", resultados[i][1])\n",
        "    print()"
      ],
      "metadata": {
        "id": "oy6U8rRb-7bf",
        "colab": {
          "base_uri": "https://localhost:8080/"
        },
        "outputId": "5158b0d2-8a69-46f4-9369-e3bd4c99b6d1"
      },
      "execution_count": null,
      "outputs": [
        {
          "output_type": "stream",
          "name": "stdout",
          "text": [
            "Resultados para subconjunto de treinamento 1:\n",
            "Melhores parâmetros: {'learning_rate': 0.1, 'max_depth': 5, 'n_estimators': 200}\n",
            "Melhor pontuação: 0.9020252258486221\n",
            "\n",
            "Resultados para subconjunto de treinamento 2:\n",
            "Melhores parâmetros: {'learning_rate': 0.1, 'max_depth': 5, 'n_estimators': 200}\n",
            "Melhor pontuação: 0.9109706472860273\n",
            "\n",
            "Resultados para subconjunto de treinamento 3:\n",
            "Melhores parâmetros: {'learning_rate': 0.1, 'max_depth': 5, 'n_estimators': 200}\n",
            "Melhor pontuação: 0.9153502278027692\n",
            "\n",
            "Resultados para subconjunto de treinamento 4:\n",
            "Melhores parâmetros: {'learning_rate': 0.1, 'max_depth': 5, 'n_estimators': 200}\n",
            "Melhor pontuação: 0.9228447609142005\n",
            "\n"
          ]
        }
      ]
    },
    {
      "cell_type": "markdown",
      "source": [
        "## Testando o XGBoost"
      ],
      "metadata": {
        "id": "0GvWGmKb_Jmu"
      }
    },
    {
      "cell_type": "code",
      "source": [
        "# Importando bibliotecas\n",
        "from sklearn.tree import DecisionTreeRegressor\n",
        "import matplotlib.pyplot as plt\n",
        "import numpy as np\n",
        "from sklearn import metrics\n",
        "\n",
        "# Loop pelos subconjuntos de teste\n",
        "predicao_xgboost= [[] for i in range(4)]\n",
        "for i in range(4):\n",
        "\n",
        "    # Criar o classificador de árvore de decisão com os melhores parâmetros encontrados\n",
        "    classificador = XGBRegressor(**resultados[i][0])\n",
        "\n",
        "    # Treinar o classificador com o conjunto de treinamento correspondente\n",
        "    classificador.fit(subconjuntos_features[i], subconjuntos_target[i])\n",
        "\n",
        "    # Fazer previsões no conjunto de teste\n",
        "    y_pred = classificador.predict(features_test)\n",
        "    predicao_xgboost[i] = y_pred\n",
        "\n",
        "   # Calcular todas as metricas\n",
        "    r2 = r2_score(target_test, y_pred,)\n",
        "    MSE = mean_squared_error(target_test,y_pred)\n",
        "    RMSE = mean_squared_error(target_test,y_pred, squared=False)\n",
        "    MAE = mean_absolute_error(target_test,y_pred)\n",
        "    MAPE = mean_absolute_percentage_error(target_test, y_pred)\n",
        "\n",
        "    # Exibicao dos resultados\n",
        "    print(f\"-----Subsconjundo de dados {i+1}-----\")\n",
        "    print(f\"R2 para o Teste : {r2}\")\n",
        "    print(f\"Erro Absoluto Médio para o Teste : {MAE}\")\n",
        "    print(f\"Mean Absolute Percentage Error para o Teste : {MAPE}\")\n",
        "    print()"
      ],
      "metadata": {
        "id": "eCq3A2uP_MII",
        "colab": {
          "base_uri": "https://localhost:8080/"
        },
        "outputId": "7d93b2f4-de33-43ce-86cc-ae7da6f9a85f"
      },
      "execution_count": null,
      "outputs": [
        {
          "output_type": "stream",
          "name": "stdout",
          "text": [
            "-----Subsconjundo de dados 1-----\n",
            "R2 para o Teste : 0.9433351901267369\n",
            "Erro Absoluto Médio para o Teste : 79944.15319361728\n",
            "Mean Absolute Percentage Error para o Teste : 0.08797053785485275\n",
            "\n",
            "-----Subsconjundo de dados 2-----\n",
            "R2 para o Teste : 0.938222415888336\n",
            "Erro Absoluto Médio para o Teste : 82465.27094251683\n",
            "Mean Absolute Percentage Error para o Teste : 0.09690825919226317\n",
            "\n",
            "-----Subsconjundo de dados 3-----\n",
            "R2 para o Teste : 0.938062640988458\n",
            "Erro Absoluto Médio para o Teste : 83737.46610920507\n",
            "Mean Absolute Percentage Error para o Teste : 0.09291045514200635\n",
            "\n",
            "-----Subsconjundo de dados 4-----\n",
            "R2 para o Teste : 0.9460409052843038\n",
            "Erro Absoluto Médio para o Teste : 80791.6966306318\n",
            "Mean Absolute Percentage Error para o Teste : 0.09067737446482976\n",
            "\n"
          ]
        }
      ]
    },
    {
      "cell_type": "code",
      "source": [
        "for i in range(4):\n",
        "  print(f\"Lista de Resultados do Teste {i+1}\")\n",
        "  print()\n",
        "  print(predicao_xgboost[i])\n",
        "  print()"
      ],
      "metadata": {
        "colab": {
          "base_uri": "https://localhost:8080/"
        },
        "id": "UdKXI94IJlx1",
        "outputId": "d2653416-592c-4657-8b1e-84e1a23d4e7a"
      },
      "execution_count": null,
      "outputs": [
        {
          "output_type": "stream",
          "name": "stdout",
          "text": [
            "Lista de Resultados do Teste 1\n",
            "\n",
            "[1835297.   431801.5 1214354.1 ... 1815452.5  632714.4 1059226.5]\n",
            "\n",
            "Lista de Resultados do Teste 2\n",
            "\n",
            "[1826239.9   433589.78 1344843.1  ... 1842493.4   629921.6  1185440.6 ]\n",
            "\n",
            "Lista de Resultados do Teste 3\n",
            "\n",
            "[1944293.9   327552.7  1299517.2  ... 1737212.1   633539.06 1040377.8 ]\n",
            "\n",
            "Lista de Resultados do Teste 4\n",
            "\n",
            "[1951481.6   381740.03 1215575.6  ... 1868920.8   622529.4  1057945.6 ]\n",
            "\n"
          ]
        }
      ]
    },
    {
      "cell_type": "code",
      "source": [
        "for i in range(4):\n",
        "  with open(f'XGBoost_{i+1}.txt', 'w+') as f:\n",
        "\n",
        "\n",
        "      for items in predicao_xgboost[i]:\n",
        "          f.write('%s\\n' %items)\n",
        "\n",
        "      print(\"File written successfully\")\n",
        "\n",
        "\n",
        "  f.close()"
      ],
      "metadata": {
        "colab": {
          "base_uri": "https://localhost:8080/"
        },
        "outputId": "2348b132-f248-4fa9-d1a0-4e8a9ea0925a",
        "id": "CRJHKMuNJl6j"
      },
      "execution_count": null,
      "outputs": [
        {
          "output_type": "stream",
          "name": "stdout",
          "text": [
            "File written successfully\n",
            "File written successfully\n",
            "File written successfully\n",
            "File written successfully\n"
          ]
        }
      ]
    }
  ]
}